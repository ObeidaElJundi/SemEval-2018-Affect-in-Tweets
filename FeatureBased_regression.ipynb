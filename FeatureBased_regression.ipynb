{
 "cells": [
  {
   "cell_type": "markdown",
   "metadata": {},
   "source": [
    "## Imports necessary libraries"
   ]
  },
  {
   "cell_type": "code",
   "execution_count": 1,
   "metadata": {},
   "outputs": [],
   "source": [
    "import pandas as pd\n",
    "import numpy as np\n",
    "from scipy.stats import pearsonr\n",
    "\n",
    "from resources.arabic_preprocessing import Arabic_preprocessing\n",
    "\n",
    "from sklearn.feature_extraction.text import CountVectorizer, TfidfTransformer\n",
    "from sklearn.model_selection import train_test_split, GridSearchCV\n",
    "from sklearn.metrics import mean_squared_error, r2_score\n",
    "from sklearn.decomposition import PCA\n",
    "\n",
    "from sklearn.svm import SVR\n",
    "from sklearn import linear_model\n",
    "from sklearn.ensemble import RandomForestRegressor\n",
    "\n",
    "import matplotlib.pyplot as plt\n",
    "import seaborn as sns\n",
    "\n",
    "# fix random seed for reproducibility\n",
    "seed = 7\n",
    "np.random.seed(seed)"
   ]
  },
  {
   "cell_type": "markdown",
   "metadata": {},
   "source": [
    "## Reading Dataset"
   ]
  },
  {
   "cell_type": "code",
   "execution_count": 2,
   "metadata": {},
   "outputs": [],
   "source": [
    "sample=pd.read_csv('data/joy_train.csv',header=None, names=['index', 'tweet','emotion','score'])\n",
    "test_sample=pd.read_csv('data/joy_test.csv',header=None, names=['index', 'tweet','emotion','score'])"
   ]
  },
  {
   "cell_type": "markdown",
   "metadata": {},
   "source": [
    "## Preprocess Tweets"
   ]
  },
  {
   "cell_type": "code",
   "execution_count": 3,
   "metadata": {},
   "outputs": [],
   "source": [
    "prep = Arabic_preprocessing()\n",
    "sample['tweet']=sample['tweet'].apply(lambda x : prep.preprocess_arabic_text(x))\n",
    "test_sample['tweet']=test_sample['tweet'].apply(lambda x : prep.preprocess_arabic_text(x))"
   ]
  },
  {
   "cell_type": "markdown",
   "metadata": {},
   "source": [
    "## Preparing training & test data (uni & bi-grams)"
   ]
  },
  {
   "cell_type": "code",
   "execution_count": 4,
   "metadata": {},
   "outputs": [],
   "source": [
    "X = sample['tweet'].tolist()\n",
    "y_train = sample['score'].tolist()\n",
    "count_vect_uni = CountVectorizer(lowercase=False, token_pattern=r'\\S+', ngram_range=(1, 1))\n",
    "count_vect_bi = CountVectorizer(lowercase=False, token_pattern=r'\\S+', ngram_range=(2, 2))\n",
    "count_vect_uni_bi = CountVectorizer(lowercase=False, token_pattern=r'\\S+', ngram_range=(1, 2))\n",
    "count_vect_uni = count_vect_uni.fit(X)\n",
    "count_vect_bi = count_vect_bi.fit(X)\n",
    "count_vect_uni_bi = count_vect_uni_bi.fit(X)\n",
    "\n",
    "X_train_count_uni = count_vect_uni.transform(X)\n",
    "X_train_count_bi = count_vect_bi.transform(X)\n",
    "X_train_count_uni_bi = count_vect_uni_bi.transform(X)\n",
    "\n",
    "X_test = test_sample['tweet'].tolist()\n",
    "y_test = test_sample['score'].tolist()\n",
    "X_test_count_uni = count_vect_uni.transform(X_test)\n",
    "X_test_count_bi = count_vect_bi.transform(X_test)\n",
    "X_test_count_uni_bi = count_vect_uni_bi.transform(X_test)"
   ]
  },
  {
   "cell_type": "markdown",
   "metadata": {},
   "source": [
    "## PCA"
   ]
  },
  {
   "cell_type": "code",
   "execution_count": 5,
   "metadata": {},
   "outputs": [],
   "source": [
    "pca = PCA(n_components=1000)\n",
    "X_train_count_uni_pca = pca.fit_transform(X_train_count_uni.toarray())\n",
    "X_test_count_uni_pca = pca.transform(X_test_count_uni.toarray())\n",
    "X_train_count_uni_bi_pca = pca.fit_transform(X_train_count_uni_bi.toarray())\n",
    "X_test_count_uni_bi_pca = pca.transform(X_test_count_uni_bi.toarray())"
   ]
  },
  {
   "cell_type": "markdown",
   "metadata": {},
   "source": [
    "#### TODO: try PLS"
   ]
  },
  {
   "cell_type": "markdown",
   "metadata": {},
   "source": [
    "## train & evaluate method"
   ]
  },
  {
   "cell_type": "code",
   "execution_count": 6,
   "metadata": {},
   "outputs": [],
   "source": [
    "def train_evaluate(model, X_train, y_train, X_test, y_test):\n",
    "    model.fit(X_train, y_train) # Train the model using the training sets\n",
    "    y_pred = model.predict(X_test) # Make predictions using the testing set\n",
    "    y_pred_train = model.predict(X_train)\n",
    "    r2 = r2_score(y_test, y_pred)\n",
    "    #r2_train = r2_score(y_train, y_pred_train)\n",
    "    rmse = mean_squared_error(y_test, y_pred)\n",
    "    #rmse_train = mean_squared_error(y_train, y_pred_train)\n",
    "    #print(\"Train: R2 : {0:f}, RMSE : {1:f}\".format( r2_train, rmse_train ) )\n",
    "    print(\"Test: R2 : {0:f}, RMSE : {1:f}\".format( r2, rmse ) )\n",
    "    return (rmse, r2)"
   ]
  },
  {
   "cell_type": "markdown",
   "metadata": {},
   "source": [
    "## Ridge"
   ]
  },
  {
   "cell_type": "markdown",
   "metadata": {},
   "source": [
    "- tuning alpha parameter\n",
    "- trying 4 different training data:\n",
    "    -  uni-gram\n",
    "    -  uni & bi-gram\n",
    "    -  uni-gram with PCA (reduced dimensions = 1000)\n",
    "    -  uni & bi-gram with PCA (reduced dimensions = 1000)"
   ]
  },
  {
   "cell_type": "code",
   "execution_count": 9,
   "metadata": {},
   "outputs": [
    {
     "name": "stdout",
     "output_type": "stream",
     "text": [
      "alpha = 0.1\n",
      "Test: R2 : 0.112215, RMSE : 0.028241\n",
      "Test: R2 : 0.144640, RMSE : 0.027210\n",
      "Test: R2 : 0.176138, RMSE : 0.026208\n",
      "Test: R2 : 0.241227, RMSE : 0.024137\n",
      "alpha = 0.855172413793\n",
      "Test: R2 : 0.175253, RMSE : 0.026236\n",
      "Test: R2 : 0.219598, RMSE : 0.024825\n",
      "Test: R2 : 0.203163, RMSE : 0.025348\n",
      "Test: R2 : 0.284560, RMSE : 0.022759\n",
      "alpha = 1.61034482759\n",
      "Test: R2 : 0.199761, RMSE : 0.025457\n",
      "Test: R2 : 0.245046, RMSE : 0.024016\n",
      "Test: R2 : 0.212111, RMSE : 0.025064\n",
      "Test: R2 : 0.291695, RMSE : 0.022532\n",
      "alpha = 2.36551724138\n",
      "Test: R2 : 0.212687, RMSE : 0.025045\n",
      "Test: R2 : 0.259894, RMSE : 0.023544\n",
      "Test: R2 : 0.215553, RMSE : 0.024954\n",
      "Test: R2 : 0.295597, RMSE : 0.022408\n",
      "alpha = 3.12068965517\n",
      "Test: R2 : 0.224295, RMSE : 0.024676\n",
      "Test: R2 : 0.269667, RMSE : 0.023233\n",
      "Test: R2 : 0.216880, RMSE : 0.024912\n",
      "Test: R2 : 0.298066, RMSE : 0.022329\n",
      "alpha = 3.87586206897\n",
      "Test: R2 : 0.238619, RMSE : 0.024220\n",
      "Test: R2 : 0.276496, RMSE : 0.023016\n",
      "Test: R2 : 0.217340, RMSE : 0.024897\n",
      "Test: R2 : 0.299686, RMSE : 0.022278\n",
      "alpha = 4.63103448276\n",
      "Test: R2 : 0.248920, RMSE : 0.023893\n",
      "Test: R2 : 0.281436, RMSE : 0.022858\n",
      "Test: R2 : 0.218010, RMSE : 0.024876\n",
      "Test: R2 : 0.300738, RMSE : 0.022244\n",
      "alpha = 5.38620689655\n",
      "Test: R2 : 0.255029, RMSE : 0.023698\n",
      "Test: R2 : 0.285084, RMSE : 0.022742\n",
      "Test: R2 : 0.217518, RMSE : 0.024892\n",
      "Test: R2 : 0.301385, RMSE : 0.022224\n",
      "alpha = 6.14137931034\n",
      "Test: R2 : 0.259602, RMSE : 0.023553\n",
      "Test: R2 : 0.287807, RMSE : 0.022656\n",
      "Test: R2 : 0.220817, RMSE : 0.024787\n",
      "Test: R2 : 0.301732, RMSE : 0.022213\n",
      "alpha = 6.89655172414\n",
      "Test: R2 : 0.263258, RMSE : 0.023437\n",
      "Test: R2 : 0.289847, RMSE : 0.022591\n",
      "Test: R2 : 0.227831, RMSE : 0.024564\n",
      "Test: R2 : 0.301851, RMSE : 0.022209\n",
      "alpha = 7.65172413793\n",
      "Test: R2 : 0.266204, RMSE : 0.023343\n",
      "Test: R2 : 0.291369, RMSE : 0.022542\n",
      "Test: R2 : 0.235067, RMSE : 0.024333\n",
      "Test: R2 : 0.301792, RMSE : 0.022211\n",
      "alpha = 8.40689655172\n",
      "Test: R2 : 0.268591, RMSE : 0.023267\n",
      "Test: R2 : 0.292488, RMSE : 0.022507\n",
      "Test: R2 : 0.237179, RMSE : 0.024266\n",
      "Test: R2 : 0.301593, RMSE : 0.022217\n",
      "alpha = 9.16206896552\n",
      "Test: R2 : 0.270529, RMSE : 0.023205\n",
      "Test: R2 : 0.293291, RMSE : 0.022481\n",
      "Test: R2 : 0.238645, RMSE : 0.024220\n",
      "Test: R2 : 0.301282, RMSE : 0.022227\n",
      "alpha = 9.91724137931\n",
      "Test: R2 : 0.272104, RMSE : 0.023155\n",
      "Test: R2 : 0.293840, RMSE : 0.022464\n",
      "Test: R2 : 0.244439, RMSE : 0.024035\n",
      "Test: R2 : 0.300882, RMSE : 0.022240\n",
      "alpha = 10.6724137931\n",
      "Test: R2 : 0.273378, RMSE : 0.023115\n",
      "Test: R2 : 0.294186, RMSE : 0.022453\n",
      "Test: R2 : 0.245593, RMSE : 0.023999\n",
      "Test: R2 : 0.300409, RMSE : 0.022255\n",
      "alpha = 11.4275862069\n",
      "Test: R2 : 0.274405, RMSE : 0.023082\n",
      "Test: R2 : 0.294364, RMSE : 0.022447\n",
      "Test: R2 : 0.249713, RMSE : 0.023868\n",
      "Test: R2 : 0.299876, RMSE : 0.022272\n",
      "alpha = 12.1827586207\n",
      "Test: R2 : 0.275222, RMSE : 0.023056\n",
      "Test: R2 : 0.294404, RMSE : 0.022446\n",
      "Test: R2 : 0.251701, RMSE : 0.023804\n",
      "Test: R2 : 0.299295, RMSE : 0.022290\n",
      "alpha = 12.9379310345\n",
      "Test: R2 : 0.275864, RMSE : 0.023036\n",
      "Test: R2 : 0.294331, RMSE : 0.022448\n",
      "Test: R2 : 0.252447, RMSE : 0.023781\n",
      "Test: R2 : 0.298674, RMSE : 0.022310\n",
      "alpha = 13.6931034483\n",
      "Test: R2 : 0.274916, RMSE : 0.023066\n",
      "Test: R2 : 0.294162, RMSE : 0.022454\n",
      "Test: R2 : 0.254184, RMSE : 0.023725\n",
      "Test: R2 : 0.298020, RMSE : 0.022331\n",
      "alpha = 14.4482758621\n",
      "Test: R2 : 0.274410, RMSE : 0.023082\n",
      "Test: R2 : 0.293914, RMSE : 0.022461\n",
      "Test: R2 : 0.254714, RMSE : 0.023708\n",
      "Test: R2 : 0.297340, RMSE : 0.022352\n",
      "alpha = 15.2034482759\n",
      "Test: R2 : 0.274696, RMSE : 0.023073\n",
      "Test: R2 : 0.293598, RMSE : 0.022471\n",
      "Test: R2 : 0.255153, RMSE : 0.023694\n",
      "Test: R2 : 0.296637, RMSE : 0.022375\n",
      "alpha = 15.9586206897\n",
      "Test: R2 : 0.274886, RMSE : 0.023067\n",
      "Test: R2 : 0.293225, RMSE : 0.022483\n",
      "Test: R2 : 0.255511, RMSE : 0.023683\n",
      "Test: R2 : 0.295916, RMSE : 0.022398\n",
      "alpha = 16.7137931034\n",
      "Test: R2 : 0.274992, RMSE : 0.023063\n",
      "Test: R2 : 0.292803, RMSE : 0.022497\n",
      "Test: R2 : 0.255797, RMSE : 0.023674\n",
      "Test: R2 : 0.295181, RMSE : 0.022421\n",
      "alpha = 17.4689655172\n",
      "Test: R2 : 0.275026, RMSE : 0.023062\n",
      "Test: R2 : 0.292341, RMSE : 0.022511\n",
      "Test: R2 : 0.256017, RMSE : 0.023667\n",
      "Test: R2 : 0.294433, RMSE : 0.022445\n",
      "alpha = 18.224137931\n",
      "Test: R2 : 0.274997, RMSE : 0.023063\n",
      "Test: R2 : 0.291843, RMSE : 0.022527\n",
      "Test: R2 : 0.256180, RMSE : 0.023662\n",
      "Test: R2 : 0.293676, RMSE : 0.022469\n",
      "alpha = 18.9793103448\n",
      "Test: R2 : 0.274911, RMSE : 0.023066\n",
      "Test: R2 : 0.291315, RMSE : 0.022544\n",
      "Test: R2 : 0.256290, RMSE : 0.023658\n",
      "Test: R2 : 0.292912, RMSE : 0.022493\n",
      "alpha = 19.7344827586\n",
      "Test: R2 : 0.274776, RMSE : 0.023070\n",
      "Test: R2 : 0.290762, RMSE : 0.022562\n",
      "Test: R2 : 0.256353, RMSE : 0.023656\n",
      "Test: R2 : 0.292142, RMSE : 0.022518\n",
      "alpha = 20.4896551724\n",
      "Test: R2 : 0.274597, RMSE : 0.023076\n",
      "Test: R2 : 0.290187, RMSE : 0.022580\n",
      "Test: R2 : 0.256373, RMSE : 0.023656\n",
      "Test: R2 : 0.291367, RMSE : 0.022542\n",
      "alpha = 21.2448275862\n",
      "Test: R2 : 0.274380, RMSE : 0.023083\n",
      "Test: R2 : 0.289593, RMSE : 0.022599\n",
      "Test: R2 : 0.256354, RMSE : 0.023656\n",
      "Test: R2 : 0.290590, RMSE : 0.022567\n",
      "alpha = 22.0\n",
      "Test: R2 : 0.274128, RMSE : 0.023091\n",
      "Test: R2 : 0.288983, RMSE : 0.022618\n",
      "Test: R2 : 0.256300, RMSE : 0.023658\n",
      "Test: R2 : 0.289811, RMSE : 0.022592\n"
     ]
    },
    {
     "data": {
      "image/png": "[encoded data removed]",
      "text/plain": [
       "<matplotlib.figure.Figure at 0x76a4767f28>"
      ]
     },
     "metadata": {},
     "output_type": "display_data"
    },
    {
     "name": "stdout",
     "output_type": "stream",
     "text": [
      "the best R^2 is 0.301850593434 with alpha=6.89655172414 and training data: uni & bi with PCA\n"
     ]
    }
   ],
   "source": [
    "r2_uni, r2_uni_pca, r2_uni_bi, r2_uni_bi_pca = [], [], [], []\n",
    "max_r2, best_alpha, best_training_data = 0, 0, ''    \n",
    "    \n",
    "alphas = np.linspace(0.1,22,30)\n",
    "for a in alphas:\n",
    "    print('alpha = ' + str(a))\n",
    "    # fit & evaluate uni-gram without pca\n",
    "    model = linear_model.Ridge(alpha=a, random_state=seed)\n",
    "    r2 = train_evaluate(model, X_train_count_uni, y_train, X_test_count_uni, y_test)[1]\n",
    "    r2_uni.append(r2)\n",
    "    if max_r2 < r2: max_r2, best_alpha, best_training_data = r2, a, 'uni'\n",
    "    # fit & evaluate uni-gram with pca\n",
    "    model = linear_model.Ridge(alpha=a, random_state=seed)\n",
    "    r2 = train_evaluate(model, X_train_count_uni_pca, y_train, X_test_count_uni_pca, y_test)[1]\n",
    "    r2_uni_pca.append(r2)\n",
    "    if max_r2 < r2: max_r2, best_alpha, best_training_data = r2, a, 'uni with PCA'\n",
    "    # fit & evaluate uni & bi-gram without pca\n",
    "    model = linear_model.Ridge(alpha=a, random_state=seed)\n",
    "    r2 = train_evaluate(model, X_train_count_uni_bi, y_train, X_test_count_uni_bi, y_test)[1]\n",
    "    r2_uni_bi.append(r2)\n",
    "    if max_r2 < r2: max_r2, best_alpha, best_training_data = r2, a, 'uni & bi'\n",
    "    # fit & evaluate uni & bi-gram with pca\n",
    "    model = linear_model.Ridge(alpha=a, random_state=seed)\n",
    "    r2 = train_evaluate(model, X_train_count_uni_bi_pca, y_train, X_test_count_uni_bi_pca, y_test)[1]\n",
    "    r2_uni_bi_pca.append(r2)\n",
    "    if max_r2 < r2: max_r2, best_alpha, best_training_data = r2, a, 'uni & bi with PCA'\n",
    "\n",
    "plt.plot(alphas,r2_uni_pca,'r', label='uni pca')\n",
    "plt.plot(alphas,r2_uni,'b', label='uni')\n",
    "plt.plot(alphas,r2_uni_bi,'g', label='uni bi')\n",
    "plt.plot(alphas,r2_uni_bi_pca,'k', label='uni bi pca')\n",
    "plt.legend(loc='upper right', numpoints = 1)\n",
    "plt.xlabel('alpha')\n",
    "plt.ylabel('R2')\n",
    "plt.title('Ridge')\n",
    "plt.show()\n",
    "\n",
    "#print the best C and training data\n",
    "print('the best R^2 is ' + str(max_r2) + ' with alpha=' + str(best_alpha) + ' and training data: ' + best_training_data)"
   ]
  },
  {
   "cell_type": "markdown",
   "metadata": {},
   "source": [
    "#### Create the best Ridge model with the best alpha and training data obtained previously\n",
    "#### Then calculate Pearson correlation between predicted and actual labels\n",
    "See SemEval Evaluation: https://competitions.codalab.org/competitions/17751#learn_the_details-evaluation"
   ]
  },
  {
   "cell_type": "code",
   "execution_count": 11,
   "metadata": {},
   "outputs": [
    {
     "name": "stdout",
     "output_type": "stream",
     "text": [
      "Pearson score for Ridge = 0.559065915533\n"
     ]
    }
   ],
   "source": [
    "best_ridge_model = linear_model.Ridge(alpha=6.89655172414, random_state=seed)\n",
    "best_ridge_model.fit(X_train_count_uni_bi_pca, y_train) # Train the model using the training sets\n",
    "y_pred = best_ridge_model.predict(X_test_count_uni_bi_pca) # Make predictions using the testing set\n",
    "pearson = pearsonr(y_test, y_pred)\n",
    "print('Pearson score for Ridge = ' + str(pearson[0]))"
   ]
  },
  {
   "cell_type": "markdown",
   "metadata": {},
   "source": [
    "## SVR"
   ]
  },
  {
   "cell_type": "markdown",
   "metadata": {},
   "source": [
    "- tuning regularization parameter: C\n",
    "- trying 4 different training data:\n",
    "    -  uni-gram\n",
    "    -  uni & bi-gram\n",
    "    -  uni-gram with PCA (reduced dimensions = 1000)\n",
    "    -  uni & bi-gram with PCA (reduced dimensions = 1000)"
   ]
  },
  {
   "cell_type": "code",
   "execution_count": 18,
   "metadata": {},
   "outputs": [
    {
     "name": "stdout",
     "output_type": "stream",
     "text": [
      "Test: R2 : 0.137624, RMSE : 0.027433\n",
      "Test: R2 : 0.053944, RMSE : 0.030095\n",
      "Test: R2 : 0.251331, RMSE : 0.023816\n",
      "Test: R2 : 0.238741, RMSE : 0.024217\n",
      "Test: R2 : 0.228779, RMSE : 0.024533\n",
      "Test: R2 : 0.133649, RMSE : 0.027560\n",
      "Test: R2 : 0.279522, RMSE : 0.022919\n",
      "Test: R2 : 0.256448, RMSE : 0.023653\n",
      "Test: R2 : 0.254203, RMSE : 0.023725\n",
      "Test: R2 : 0.174591, RMSE : 0.026257\n",
      "Test: R2 : 0.273988, RMSE : 0.023095\n",
      "Test: R2 : 0.254515, RMSE : 0.023715\n",
      "Test: R2 : 0.267474, RMSE : 0.023302\n",
      "Test: R2 : 0.202733, RMSE : 0.025362\n",
      "Test: R2 : 0.265082, RMSE : 0.023379\n",
      "Test: R2 : 0.257166, RMSE : 0.023630\n",
      "Test: R2 : 0.275818, RMSE : 0.023037\n",
      "Test: R2 : 0.220924, RMSE : 0.024783\n",
      "Test: R2 : 0.257722, RMSE : 0.023613\n",
      "Test: R2 : 0.259832, RMSE : 0.023546\n",
      "Test: R2 : 0.281199, RMSE : 0.022866\n",
      "Test: R2 : 0.233400, RMSE : 0.024386\n",
      "Test: R2 : 0.253218, RMSE : 0.023756\n",
      "Test: R2 : 0.261325, RMSE : 0.023498\n",
      "Test: R2 : 0.283445, RMSE : 0.022794\n",
      "Test: R2 : 0.240382, RMSE : 0.024164\n",
      "Test: R2 : 0.248692, RMSE : 0.023900\n",
      "Test: R2 : 0.263000, RMSE : 0.023445\n",
      "Test: R2 : 0.284177, RMSE : 0.022771\n",
      "Test: R2 : 0.246550, RMSE : 0.023968\n",
      "Test: R2 : 0.244281, RMSE : 0.024040\n",
      "Test: R2 : 0.264634, RMSE : 0.023393\n",
      "Test: R2 : 0.283251, RMSE : 0.022801\n",
      "Test: R2 : 0.251304, RMSE : 0.023817\n",
      "Test: R2 : 0.242162, RMSE : 0.024108\n",
      "Test: R2 : 0.266765, RMSE : 0.023325\n",
      "Test: R2 : 0.282409, RMSE : 0.022827\n",
      "Test: R2 : 0.255455, RMSE : 0.023685\n",
      "Test: R2 : 0.242307, RMSE : 0.024103\n",
      "Test: R2 : 0.268645, RMSE : 0.023265\n",
      "Test: R2 : 0.282321, RMSE : 0.022830\n",
      "Test: R2 : 0.259103, RMSE : 0.023569\n",
      "Test: R2 : 0.241963, RMSE : 0.024114\n",
      "Test: R2 : 0.270208, RMSE : 0.023216\n",
      "Test: R2 : 0.281263, RMSE : 0.022864\n",
      "Test: R2 : 0.262115, RMSE : 0.023473\n",
      "Test: R2 : 0.241712, RMSE : 0.024122\n",
      "Test: R2 : 0.271670, RMSE : 0.023169\n",
      "Test: R2 : 0.279844, RMSE : 0.022909\n",
      "Test: R2 : 0.264545, RMSE : 0.023396\n",
      "Test: R2 : 0.241836, RMSE : 0.024118\n",
      "Test: R2 : 0.272786, RMSE : 0.023134\n",
      "Test: R2 : 0.278645, RMSE : 0.022947\n",
      "Test: R2 : 0.266262, RMSE : 0.023341\n",
      "Test: R2 : 0.242080, RMSE : 0.024110\n",
      "Test: R2 : 0.273615, RMSE : 0.023107\n",
      "Test: R2 : 0.277354, RMSE : 0.022988\n",
      "Test: R2 : 0.267166, RMSE : 0.023312\n",
      "Test: R2 : 0.242272, RMSE : 0.024104\n",
      "Test: R2 : 0.274420, RMSE : 0.023082\n",
      "Test: R2 : 0.276184, RMSE : 0.023025\n",
      "Test: R2 : 0.268061, RMSE : 0.023284\n",
      "Test: R2 : 0.242433, RMSE : 0.024099\n",
      "Test: R2 : 0.274983, RMSE : 0.023064\n",
      "Test: R2 : 0.275100, RMSE : 0.023060\n",
      "Test: R2 : 0.268975, RMSE : 0.023255\n",
      "Test: R2 : 0.242497, RMSE : 0.024097\n",
      "Test: R2 : 0.275650, RMSE : 0.023042\n",
      "Test: R2 : 0.273863, RMSE : 0.023099\n",
      "Test: R2 : 0.269626, RMSE : 0.023234\n",
      "Test: R2 : 0.242667, RMSE : 0.024092\n",
      "Test: R2 : 0.276168, RMSE : 0.023026\n",
      "Test: R2 : 0.272674, RMSE : 0.023137\n",
      "Test: R2 : 0.270231, RMSE : 0.023215\n",
      "Test: R2 : 0.242633, RMSE : 0.024093\n",
      "Test: R2 : 0.276826, RMSE : 0.023005\n",
      "Test: R2 : 0.270867, RMSE : 0.023195\n",
      "Test: R2 : 0.270660, RMSE : 0.023201\n",
      "Test: R2 : 0.242482, RMSE : 0.024098\n",
      "Test: R2 : 0.277327, RMSE : 0.022989\n"
     ]
    },
    {
     "data": {
      "image/png": "[encoded data removed]",
      "text/plain": [
       "<matplotlib.figure.Figure at 0x73944f4a90>"
      ]
     },
     "metadata": {},
     "output_type": "display_data"
    },
    {
     "name": "stdout",
     "output_type": "stream",
     "text": [
      "the best R^2 is 0.284177256792 with C=15and training data: uni\n"
     ]
    }
   ],
   "source": [
    "svr_uni, svr_uni_bi, svr_uni_pca, svr_uni_bi_pca = [], [], [], []\n",
    "max_r2, best_C, best_training_data = 0, 0, ''\n",
    "\n",
    "x = np.arange(1,40,2)\n",
    "for c in x:\n",
    "    print('C = ' + str(c))\n",
    "    svr_uni.append(train_evaluate(SVR(C=c), X_train_count_uni, y_train, X_test_count_uni, y_test)[1])\n",
    "    if max_r2 < svr_uni[-1]: max_r2, best_C, best_training_data = svr_uni[-1], c, 'uni'\n",
    "    svr_uni_bi.append(train_evaluate(SVR(C=c), X_train_count_uni_bi, y_train, X_test_count_uni_bi, y_test)[1])\n",
    "    if max_r2 < svr_uni_bi[-1]: max_r2, best_C, best_training_data = svr_uni_bi[-1], c, 'uni & bi'\n",
    "    svr_uni_pca.append(train_evaluate(SVR(C=c), X_train_count_uni_pca, y_train, X_test_count_uni_pca, y_test)[1])\n",
    "    if max_r2 < svr_uni_pca[-1]: max_r2, best_C, best_training_data = svr_uni_pca[-1], c, 'uni with PCA'\n",
    "    svr_uni_bi_pca.append(train_evaluate(SVR(C=c), X_train_count_uni_bi_pca, y_train, X_test_count_uni_bi_pca, y_test)[1])\n",
    "    if max_r2 < svr_uni_bi_pca[-1]: max_r2, best_C, best_training_data = svr_uni_bi_pca[-1], c, 'uni & bi with PCA'\n",
    "\n",
    "#plotting R^2 for the 4 different data with different tuning C\n",
    "plt.plot(x,svr_uni_pca,'r', label='uni pca')\n",
    "plt.plot(x,svr_uni,'b', label='uni')\n",
    "plt.plot(x,svr_uni_bi,'g', label='uni bi')\n",
    "plt.plot(x,svr_uni_bi_pca,'k', label='uni bi pca')\n",
    "plt.legend(loc='upper right', numpoints = 1)\n",
    "plt.xlabel('C')\n",
    "plt.ylabel('R2')\n",
    "plt.title('SVR')\n",
    "plt.show()\n",
    "\n",
    "#print the best C and training data\n",
    "#d = {'uni':max(svr_uni), 'uni & bi':max(svr_uni_bi), 'uni with pca':max(svr_uni_pca), 'uni & bi with pca':max(svr_uni_bi_pca)}\n",
    "#best_param = max(zip(d.values(),d.keys()))\n",
    "print('the best R^2 is ' + str(max_r2) + ' with C=' + str(best_C) + ' and training data: ' + best_training_data)"
   ]
  },
  {
   "cell_type": "markdown",
   "metadata": {},
   "source": [
    "#### Create the best Ridge model with the best alpha and training data obtained previously\n",
    "#### Then calculate Pearson correlation between predicted and actual labels\n",
    "See SemEval Evaluation: https://competitions.codalab.org/competitions/17751#learn_the_details-evaluation"
   ]
  },
  {
   "cell_type": "code",
   "execution_count": 16,
   "metadata": {},
   "outputs": [
    {
     "name": "stdout",
     "output_type": "stream",
     "text": [
      "Pearson score for SVR = 0.543664575669\n"
     ]
    }
   ],
   "source": [
    "best_svr_model = SVR(C=15)\n",
    "best_svr_model.fit(X_train_count_uni, y_train) # Train the model using the training sets\n",
    "y_pred = best_svr_model.predict(X_test_count_uni) # Make predictions using the testing set\n",
    "pearson = pearsonr(y_test, y_pred)\n",
    "print('Pearson score for SVR = ' + str(pearson[0]))"
   ]
  },
  {
   "cell_type": "markdown",
   "metadata": {},
   "source": [
    "## Ensemble : Random Forest"
   ]
  },
  {
   "cell_type": "markdown",
   "metadata": {},
   "source": [
    "- tuning parameters: tree depth & number of trees (estimators)\n",
    "- trying 4 different training data:\n",
    "    -  uni-gram\n",
    "    -  uni & bi-gram\n",
    "    -  uni-gram with PCA\n",
    "    -  uni & bi-gram with PCA"
   ]
  },
  {
   "cell_type": "markdown",
   "metadata": {},
   "source": [
    "### TODO: to be tested\n",
    "### TODO: add pearson score for the best model"
   ]
  },
  {
   "cell_type": "code",
   "execution_count": 9,
   "metadata": {},
   "outputs": [
    {
     "name": "stdout",
     "output_type": "stream",
     "text": [
      "depth: 1  estimators: 1000\n",
      "Test: R2 : 0.132916, RMSE : 0.027583\n",
      "Test: R2 : 0.132916, RMSE : 0.027583\n",
      "Test: R2 : 0.150467, RMSE : 0.027025\n",
      "Test: R2 : 0.135806, RMSE : 0.027491\n",
      "depth: 2  estimators: 1000\n",
      "Test: R2 : 0.216453, RMSE : 0.024926\n",
      "Test: R2 : 0.216194, RMSE : 0.024934\n",
      "Test: R2 : 0.172629, RMSE : 0.026320\n",
      "Test: R2 : 0.126072, RMSE : 0.027801\n",
      "depth: 3  estimators: 1000\n",
      "Test: R2 : 0.247233, RMSE : 0.023946\n",
      "Test: R2 : 0.246939, RMSE : 0.023956\n",
      "Test: R2 : 0.178058, RMSE : 0.026147\n",
      "Test: R2 : 0.128553, RMSE : 0.027722\n",
      "depth: 4  estimators: 1000\n",
      "Test: R2 : 0.258488, RMSE : 0.023588\n",
      "Test: R2 : 0.258893, RMSE : 0.023575\n",
      "Test: R2 : 0.179466, RMSE : 0.026102\n",
      "Test: R2 : 0.138213, RMSE : 0.027414\n",
      "depth: 7  estimators: 1000\n",
      "Test: R2 : 0.273482, RMSE : 0.023111\n",
      "Test: R2 : 0.274115, RMSE : 0.023091\n",
      "Test: R2 : 0.173956, RMSE : 0.026277\n",
      "Test: R2 : 0.156250, RMSE : 0.026841\n",
      "depth: 10  estimators: 1000\n",
      "Test: R2 : 0.276917, RMSE : 0.023002\n",
      "Test: R2 : 0.278877, RMSE : 0.022940\n",
      "Test: R2 : 0.175959, RMSE : 0.026214\n",
      "Test: R2 : 0.160443, RMSE : 0.026707\n",
      "depth: 15  estimators: 1000\n",
      "Test: R2 : 0.275860, RMSE : 0.023036\n",
      "Test: R2 : 0.277690, RMSE : 0.022978\n",
      "Test: R2 : 0.171809, RMSE : 0.026346\n",
      "Test: R2 : 0.159835, RMSE : 0.026727\n",
      "depth: 20  estimators: 1000\n",
      "Test: R2 : 0.270101, RMSE : 0.023219\n",
      "Test: R2 : 0.273359, RMSE : 0.023115\n",
      "Test: R2 : 0.173197, RMSE : 0.026302\n",
      "Test: R2 : 0.160401, RMSE : 0.026709\n"
     ]
    },
    {
     "data": {
      "image/png": "[encoded data removed]",
      "text/plain": [
       "<matplotlib.figure.Figure at 0x1d86d4be940>"
      ]
     },
     "metadata": {},
     "output_type": "display_data"
    },
    {
     "name": "stdout",
     "output_type": "stream",
     "text": [
      "the best R^2 is 0.278877367079 with depth=10 and training data: uni & bi\n"
     ]
    }
   ],
   "source": [
    "r2_uni, r2_uni_bi, r2_uni_pca, r2_uni_bi_pca = [], [], [], []\n",
    "max_r2, best_depth, best_training_data = 0, 0, ''\n",
    "\n",
    "depth = [1,2,3,4,7,10,15,20]\n",
    "#estimators = [10, 100, 1000]\n",
    "for d in depth:\n",
    "    #for e in estimators:\n",
    "    print('depth: ' + str(d) + '  estimators: '+ str(1000))\n",
    "    model = RandomForestRegressor(n_estimators=1000, max_depth=d, random_state=seed)\n",
    "    r2_uni.append(train_evaluate(model, X_train_count_uni, y_train, X_test_count_uni, y_test)[1])\n",
    "    if max_r2 < r2_uni[-1]: max_r2, best_depth, best_training_data = r2_uni[-1], d, 'uni'\n",
    "    r2_uni_bi.append(train_evaluate(model, X_train_count_uni_bi, y_train, X_test_count_uni_bi, y_test)[1])\n",
    "    if max_r2 < r2_uni_bi[-1]: max_r2, best_depth, best_training_data = r2_uni_bi[-1], d, 'uni & bi'\n",
    "    r2_uni_pca.append(train_evaluate(model, X_train_count_uni_pca, y_train, X_test_count_uni_pca, y_test)[1])\n",
    "    if max_r2 < r2_uni_pca[-1]: max_r2, best_depth, best_training_data = r2_uni_pca[-1], d, 'uni with PCA'\n",
    "    r2_uni_bi_pca.append(train_evaluate(model, X_train_count_uni_bi_pca, y_train, X_test_count_uni_bi_pca, y_test)[1])\n",
    "    if max_r2 < r2_uni_bi_pca[-1]: max_r2, best_depth, best_training_data = r2_uni_bi_pca[-1], d, 'uni & bi with PCA'\n",
    "\n",
    "plt.plot(depth,r2_uni_pca,'r', label='uni pca')\n",
    "plt.plot(depth,r2_uni,'b', label='uni')\n",
    "plt.plot(depth,r2_uni_bi,'g', label='uni bi')\n",
    "plt.plot(depth,r2_uni_bi_pca,'k', label='uni bi pca')\n",
    "plt.legend(loc='upper right', numpoints = 1)\n",
    "plt.xlabel('Depth')\n",
    "plt.ylabel('R2')\n",
    "plt.title('Random Forest')\n",
    "plt.show()\n",
    "\n",
    "print('the best R^2 is ' + str(max_r2) + ' with depth=' + str(best_depth) + ' and training data: ' + best_training_data)\n",
    "        \n",
    "# plt.figure(figsize = (12,6))\n",
    "# plt.subplot(1, 2, 1)\n",
    "# data_r2_uni = pd.DataFrame(np.array(r2_uni).reshape(len(depth),len(estimators)), index=depth, columns=estimators)\n",
    "# ax = sns.heatmap(data_r2_uni, annot =True, fmt='.3g') #cmap=\"YlGnBu\"\n",
    "# plt.title('R^2 uni')\n",
    "# plt.xlabel('# trees')\n",
    "# plt.ylabel('depth')\n",
    "# plt.subplot(1, 2, 2)\n",
    "# data_r2_uni_pca = pd.DataFrame(np.array(r2_uni_pca).reshape(len(depth),len(estimators)), index=depth, columns=estimators)\n",
    "# ax = sns.heatmap(data_r2_uni_pca, annot =True, fmt='.3g') #cmap=\"YlGnBu\"\n",
    "# plt.title('R^2 uni pca')\n",
    "# plt.xlabel('# trees')\n",
    "# plt.ylabel('depth')\n",
    "# plt.tight_layout()\n",
    "# plt.show()\n",
    "\n",
    "# plt.subplot(1, 2, 1)\n",
    "# data_r2_uni_bi = pd.DataFrame(np.array(r2_uni_bi).reshape(len(depth),len(estimators)), index=depth, columns=estimators)\n",
    "# ax = sns.heatmap(data_r2_uni_bi, annot =True, fmt='.3g') #cmap=\"YlGnBu\"\n",
    "# plt.title('R^2 uni & bi')\n",
    "# plt.xlabel('# trees')\n",
    "# plt.ylabel('depth')\n",
    "# plt.subplot(1, 2, 2)\n",
    "# data_r2_uni_bi_pca = pd.DataFrame(np.array(r2_uni_bi_pca).reshape(len(depth),len(estimators)), index=depth, columns=estimators)\n",
    "# ax = sns.heatmap(data_r2_uni_bi_pca, annot =True, fmt='.3g') #cmap=\"YlGnBu\"\n",
    "# plt.title('R^2 uni & bi pca')\n",
    "# plt.xlabel('# trees')\n",
    "# plt.ylabel('depth')\n",
    "# plt.tight_layout()\n",
    "# plt.show()"
   ]
  },
  {
   "cell_type": "markdown",
   "metadata": {},
   "source": [
    "#### Create the best Random Forest model with the best depth and training data obtained previously\n",
    "#### Then calculate Pearson correlation between predicted and actual labels\n",
    "See SemEval Evaluation: https://competitions.codalab.org/competitions/17751#learn_the_details-evaluation"
   ]
  },
  {
   "cell_type": "code",
   "execution_count": 10,
   "metadata": {},
   "outputs": [
    {
     "name": "stdout",
     "output_type": "stream",
     "text": [
      "Pearson score for Random Forest = 0.544613355443\n"
     ]
    }
   ],
   "source": [
    "best_RF_model = RandomForestRegressor(n_estimators=1000, max_depth=best_depth, random_state=seed)\n",
    "best_RF_model.fit(X_train_count_uni_bi, y_train) # Train the model using the training sets\n",
    "y_pred = best_RF_model.predict(X_test_count_uni_bi) # Make predictions using the testing set\n",
    "pearson = pearsonr(y_test, y_pred)\n",
    "print('Pearson score for Random Forest = ' + str(pearson[0]))"
   ]
  }
 ],
 "metadata": {
  "kernelspec": {
   "display_name": "Python 3",
   "language": "python",
   "name": "python3"
  },
  "language_info": {
   "codemirror_mode": {
    "name": "ipython",
    "version": 3
   },
   "file_extension": ".py",
   "mimetype": "text/x-python",
   "name": "python",
   "nbconvert_exporter": "python",
   "pygments_lexer": "ipython3",
   "version": "3.5.4"
  }
 },
 "nbformat": 4,
 "nbformat_minor": 2
}
