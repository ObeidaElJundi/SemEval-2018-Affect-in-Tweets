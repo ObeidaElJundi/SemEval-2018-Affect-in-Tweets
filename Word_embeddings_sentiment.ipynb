{
 "cells": [
  {
   "cell_type": "markdown",
   "metadata": {},
   "source": [
    "# Regression (intensity)"
   ]
  },
  {
   "cell_type": "markdown",
   "metadata": {},
   "source": [
    "### impoer necessary libraries"
   ]
  },
  {
   "cell_type": "code",
   "execution_count": 2,
   "metadata": {},
   "outputs": [
    {
     "name": "stderr",
     "output_type": "stream",
     "text": [
      "C:\\Users\\oae15\\AppData\\Local\\Continuum\\anaconda3\\envs\\ML\\lib\\site-packages\\gensim\\utils.py:862: UserWarning: detected Windows; aliasing chunkize to chunkize_serial\n",
      "  warnings.warn(\"detected Windows; aliasing chunkize to chunkize_serial\")\n"
     ]
    }
   ],
   "source": [
    "import gensim\n",
    "#from gensim.models.keyedvectors import KeyedVectors\n",
    "import pandas as pd\n",
    "import numpy as np\n",
    "import re\n",
    "from sklearn.preprocessing import MinMaxScaler\n",
    "from sklearn.linear_model import Ridge\n",
    "from sklearn.svm import SVR\n",
    "from sklearn.ensemble import RandomForestRegressor\n",
    "from sklearn.model_selection import cross_val_score\n",
    "import matplotlib.pyplot as plt\n",
    "from scipy.stats import pearsonr\n",
    "from resources.arabic_preprocessing import Arabic_preprocessing\n",
    "from nltk.stem.arlstem import ARLSTem\n",
    "import editdistance as lv  # levenshtein (edit) distance (to install: pip install editdistance)"
   ]
  },
  {
   "cell_type": "markdown",
   "metadata": {},
   "source": [
    "### fix seed for reproducibility"
   ]
  },
  {
   "cell_type": "code",
   "execution_count": 3,
   "metadata": {},
   "outputs": [],
   "source": [
    "seed = 222\n",
    "np.random.seed(seed)"
   ]
  },
  {
   "cell_type": "markdown",
   "metadata": {},
   "source": [
    "### define utility functions to be used later"
   ]
  },
  {
   "cell_type": "code",
   "execution_count": 4,
   "metadata": {},
   "outputs": [],
   "source": [
    "# average embeddings of words which has edit distance of 1 with a particular word\n",
    "def get_similar_words_embeddings(word, words_embeddings):\n",
    "    sim_1 = []\n",
    "    for em in words_embeddings.wv.vocab.keys():\n",
    "        if lv.eval(word, em) == 1:\n",
    "            sim_1.append(em)\n",
    "    if len(sim_1) == 0: return False, None # no similar words\n",
    "    feature_vec = np.zeros((300,), dtype=\"float32\")\n",
    "    for em in sim_1:\n",
    "        feature_vec = np.add(feature_vec, words_embeddings.wv[em])\n",
    "    np.seterr(divide='ignore', invalid='ignore')\n",
    "    feature_vec = np.divide(feature_vec, len(sim_1))\n",
    "    f = len(sim_1) > 0\n",
    "    return f, feature_vec\n",
    "\n",
    "# convert sentence (tweet) to embeddings vector by averaging words embeddings\n",
    "# params: word embeddings (Word2Vec) - sentence (str)\n",
    "# returns numpy array(300,) of sentence embeddings\n",
    "def featurize(words_embeddings, sentence, stemmer=None):\n",
    "    \"\"\"average words' vectors\"\"\"\n",
    "    feature_vec = np.zeros((300,), dtype=\"float32\")\n",
    "    words = sentence.split(' ')\n",
    "    retrieved_words = 0\n",
    "    for token in words:\n",
    "        if token in words_embeddings.wv: # the word exists in the pre-trained tweeter embeddings\n",
    "            feature_vec = np.add(feature_vec, words_embeddings.wv[token])\n",
    "            retrieved_words += 1\n",
    "        elif stemmer is not None and stemmer.stem(token) in words_embeddings.wv: # the stem of the word exists in the pre-trained tweeter embeddings\n",
    "            feature_vec = np.add(feature_vec, words_embeddings.wv[stemmer.stem(token)])\n",
    "            retrieved_words += 1\n",
    "        else:\n",
    "            similar_words, similar_words_embeddings = get_similar_words_embeddings(token, words_embeddings)\n",
    "            if similar_words: # there are similar words with min edit distance of 1\n",
    "                feature_vec = np.add(feature_vec, similar_words_embeddings)\n",
    "                retrieved_words += 1\n",
    "    np.seterr(divide='ignore', invalid='ignore')\n",
    "    feature_vec = np.divide(feature_vec, retrieved_words)\n",
    "    return feature_vec\n",
    "\n",
    "# reads dataset and returns preprocessed tweets and labels (scores) as numpy arrays\n",
    "def read_and_preprocess_date_from_file(train_or_test, preprocess):\n",
    "    sample=pd.read_csv('data/sentiment/2018-Valence-reg-Ar-' + train_or_test + '.txt', delimiter='\\t', skiprows=1, header=None, names=['index', 'tweet','valence','score'])\n",
    "    sample['tweet'] = sample['tweet'].apply(lambda x : prep.preprocess_arabic_text(x, stem=False, replace_emojis=True, normalize_arabic=True))\n",
    "    X = sample['tweet'].values\n",
    "    y = sample['score'].values\n",
    "    return X, y\n",
    "\n",
    "def get_train_test(preprocess, word_embeddings, stemmer):\n",
    "    X1, y1 = read_and_preprocess_date_from_file('train', preprocess)\n",
    "    X2, y2 = read_and_preprocess_date_from_file('dev', preprocess)\n",
    "    X1 = np.array([featurize(word_embeddings, tweet, stemmer) for tweet in X1])\n",
    "    X2 = np.array([featurize(word_embeddings, tweet, stemmer) for tweet in X2])\n",
    "    return X1, y1, X2, y2\n",
    "\n",
    "def count_embeddings(words_embeddings, tweets_list, stemmer):\n",
    "    total, count, count_stem = 0, 0, 0\n",
    "    for tweet in tweets_list:\n",
    "        for word in tweet.split():\n",
    "            if word in words_embeddings.wv:\n",
    "                count += 1\n",
    "            elif stemmer.stem(word) in words_embeddings.wv:\n",
    "                count_stem += 1\n",
    "            total += 1\n",
    "    return total, count, count_stem"
   ]
  },
  {
   "cell_type": "markdown",
   "metadata": {},
   "source": [
    "### prepare training & test data"
   ]
  },
  {
   "cell_type": "code",
   "execution_count": 38,
   "metadata": {},
   "outputs": [],
   "source": [
    "# load the embeddings models\n",
    "tweeter_embeddings = gensim.models.Word2Vec.load('resources/Twt-SG') # tweeter\n",
    "#emoji_embeddings = KeyedVectors.load_word2vec_format('C:\\\\Users\\\\oae15\\\\Downloads\\\\Compressed\\\\emoji2vec.txt', binary=False) # emojis\n",
    "prep = Arabic_preprocessing()\n",
    "stemmer = ARLSTem()"
   ]
  },
  {
   "cell_type": "code",
   "execution_count": 56,
   "metadata": {},
   "outputs": [
    {
     "name": "stdout",
     "output_type": "stream",
     "text": [
      "(932, 300) (932,) (138, 300) (138,)\n",
      "False False\n"
     ]
    }
   ],
   "source": [
    "# prepare train & test data\n",
    "X_train, y_train, X_test, y_test = get_train_test(prep, tweeter_embeddings, stemmer)\n",
    "print(X_train.shape, y_train.shape, X_test.shape, y_test.shape)\n",
    "print(np.any(np.isnan(X_train)), np.any(np.isnan(X_test))) # make sure there is no missing data"
   ]
  },
  {
   "cell_type": "markdown",
   "metadata": {},
   "source": [
    "### Ridge"
   ]
  },
  {
   "cell_type": "code",
   "execution_count": 57,
   "metadata": {},
   "outputs": [
    {
     "data": {
      "image/png": "[encoded data removed]",
      "text/plain": [
       "<matplotlib.figure.Figure at 0x28202733e10>"
      ]
     },
     "metadata": {},
     "output_type": "display_data"
    }
   ],
   "source": [
    "alphas = np.arange(0,20.1,0.1)\n",
    "r2 = []\n",
    "max_r2, best_alpha = 0, 0\n",
    "for alpha in alphas:\n",
    "    model = Ridge(alpha=alpha, random_state=seed)\n",
    "    model.fit(X_train, y_train) # Train the model using the training sets\n",
    "    r = model.score(X_test, y_test) # Evaluate the model\n",
    "    if r > max_r2: max_r2, best_alpha = r, alpha\n",
    "    r2.append(r)\n",
    "\n",
    "# plot R^2 with respect to different values of alpha\n",
    "plt.plot(alphas,r2)\n",
    "plt.xlabel('alphas')\n",
    "plt.ylabel('R^2')\n",
    "plt.title('Ridge')\n",
    "plt.show()"
   ]
  },
  {
   "cell_type": "code",
   "execution_count": 58,
   "metadata": {},
   "outputs": [
    {
     "name": "stdout",
     "output_type": "stream",
     "text": [
      "maximum R^2:  0.56087362791\n",
      "Best alpha:  3.9\n",
      "Pearson score = 0.750843188366\n"
     ]
    }
   ],
   "source": [
    "print('maximum R^2: ', max_r2)\n",
    "print('Best alpha: ', best_alpha)\n",
    "\n",
    "best_ridge_model = Ridge(alpha=best_alpha, random_state=seed)\n",
    "best_ridge_model.fit(X_train, y_train) # Train the model using the training sets\n",
    "y_pred = best_ridge_model.predict(X_test) # Make predictions using the testing set\n",
    "best_ridge_model_pearson = pearsonr(y_test, y_pred)[0]\n",
    "print('Pearson score = ' + str(best_ridge_model_pearson))"
   ]
  },
  {
   "cell_type": "code",
   "execution_count": 59,
   "metadata": {},
   "outputs": [
    {
     "name": "stdout",
     "output_type": "stream",
     "text": [
      "[ 0.65516679  0.61457716  0.75115571  0.72590604  0.63799319  0.58999453\n",
      "  0.60160096  0.6925463   0.63608915  0.65082112]\n"
     ]
    }
   ],
   "source": [
    "model = Ridge(alpha=best_alpha)\n",
    "scores = cross_val_score(model, X_train, y_train, cv=10, scoring='r2')\n",
    "print(scores)"
   ]
  },
  {
   "cell_type": "markdown",
   "metadata": {},
   "source": [
    "### SVR"
   ]
  },
  {
   "cell_type": "code",
   "execution_count": 60,
   "metadata": {},
   "outputs": [
    {
     "data": {
      "image/png": "[encoded data removed]",
      "text/plain": [
       "<matplotlib.figure.Figure at 0x282021b54a8>"
      ]
     },
     "metadata": {},
     "output_type": "display_data"
    }
   ],
   "source": [
    "Cs = np.arange(0.1,20.1,0.1)\n",
    "r2 = []\n",
    "max_r2, best_C = 0, 0\n",
    "for c in Cs:\n",
    "    model = SVR(C=c)\n",
    "    model.fit(X_train, y_train) # Train the model using the training sets\n",
    "    r = model.score(X_test, y_test) # Evaluate the model\n",
    "    if r > max_r2: max_r2, best_C = r, c\n",
    "    r2.append(r)\n",
    "\n",
    "# plot R^2 with respect to different values of C\n",
    "plt.plot(Cs,r2)\n",
    "plt.xlabel('C')\n",
    "plt.ylabel('R^2')\n",
    "plt.title('SVR')\n",
    "plt.show()"
   ]
  },
  {
   "cell_type": "code",
   "execution_count": 61,
   "metadata": {},
   "outputs": [
    {
     "name": "stdout",
     "output_type": "stream",
     "text": [
      "maximum R^2:  0.551421868363\n",
      "Best C:  6.5\n",
      "Pearson score = 0.746143216157\n"
     ]
    }
   ],
   "source": [
    "print('maximum R^2: ', max_r2)\n",
    "print('Best C: ', best_C)\n",
    "\n",
    "best_svr_model = SVR(C=best_C)\n",
    "best_svr_model.fit(X_train, y_train) # Train the model using the training sets\n",
    "y_pred = best_svr_model.predict(X_test) # Make predictions using the testing set\n",
    "best_svr_model_pearson = pearsonr(y_test, y_pred)[0]\n",
    "print('Pearson score = ' + str(best_svr_model_pearson))"
   ]
  },
  {
   "cell_type": "code",
   "execution_count": 70,
   "metadata": {},
   "outputs": [
    {
     "name": "stdout",
     "output_type": "stream",
     "text": [
      "[ 0.58493495  0.38779237  0.36575951  0.49758331  0.40642701  0.3378256\n",
      "  0.49620479  0.31272056  0.50064132  0.44326194]\n"
     ]
    }
   ],
   "source": [
    "model = SVR(C=best_C)\n",
    "scores = cross_val_score(model, X_train, y_train, cv=10, scoring='r2')\n",
    "print(scores)"
   ]
  },
  {
   "cell_type": "markdown",
   "metadata": {},
   "source": [
    "### Random Forest"
   ]
  },
  {
   "cell_type": "code",
   "execution_count": 23,
   "metadata": {},
   "outputs": [
    {
     "data": {
      "image/png": "[encoded data removed]",
      "text/plain": [
       "<matplotlib.figure.Figure at 0x17245542048>"
      ]
     },
     "metadata": {},
     "output_type": "display_data"
    }
   ],
   "source": [
    "depths = np.arange(4,15,2)\n",
    "r2 = []\n",
    "max_r2, best_depth = 0, 0\n",
    "for depth in depths:\n",
    "    model = RandomForestRegressor(n_estimators=1000, max_depth=depth) # , random_state=seed\n",
    "    model.fit(X_train, y_train) # Train the model using the training sets\n",
    "    r = model.score(X_test, y_test)\n",
    "    if r > max_r2: max_r2, best_depth = r, depth\n",
    "    r2.append(r)\n",
    "\n",
    "# plot R^2 with respect to different values of depth\n",
    "plt.plot(depths,r2)\n",
    "plt.xlabel('depths')\n",
    "plt.ylabel('R^2')\n",
    "plt.title('Random Forest')\n",
    "plt.show()"
   ]
  },
  {
   "cell_type": "code",
   "execution_count": 10,
   "metadata": {},
   "outputs": [
    {
     "name": "stdout",
     "output_type": "stream",
     "text": [
      "Pearson score = 0.608943726499\n"
     ]
    }
   ],
   "source": [
    "#print('maximum R^2: ', max_r2)\n",
    "#print('Best depth: ', best_depth)\n",
    "\n",
    "best_random_forest_model = RandomForestRegressor(n_estimators=1000, max_depth=10, random_state=seed)\n",
    "best_random_forest_model.fit(X_train, y_train) # Train the model using the training sets\n",
    "y_pred = best_random_forest_model.predict(X_test) # Make predictions using the testing set\n",
    "best_random_forest_model_pearson = pearsonr(y_test, y_pred)[0]\n",
    "print('Pearson score = ' + str(best_random_forest_model_pearson))"
   ]
  },
  {
   "cell_type": "markdown",
   "metadata": {},
   "source": [
    "### manual Ensemble"
   ]
  },
  {
   "cell_type": "code",
   "execution_count": 64,
   "metadata": {},
   "outputs": [
    {
     "name": "stdout",
     "output_type": "stream",
     "text": [
      "Pearson score = 0.900436402777\n"
     ]
    }
   ],
   "source": [
    "ensemble_models = [best_ridge_model, best_svr_model, best_random_forest_model]\n",
    "avg_pred = np.zeros(X_test.shape[0])\n",
    "for model in ensemble_models:\n",
    "    pred = model.predict(X_test)\n",
    "    avg_pred = np.add(avg_pred, pred)\n",
    "avg_pred = avg_pred / len(ensemble_models)\n",
    "pearson = pearsonr(y_test, avg_pred)\n",
    "print('Pearson score = ' + str(pearson[0]))"
   ]
  },
  {
   "cell_type": "markdown",
   "metadata": {},
   "source": [
    "### manual wieghted Ensemble"
   ]
  },
  {
   "cell_type": "code",
   "execution_count": 65,
   "metadata": {},
   "outputs": [
    {
     "name": "stdout",
     "output_type": "stream",
     "text": [
      "0.906013618257\n"
     ]
    }
   ],
   "source": [
    "ensemble_models = [best_ridge_model, best_svr_model, best_random_forest_model]\n",
    "ps, pred_list = [], []\n",
    "for model in ensemble_models:\n",
    "    pred = model.predict(X_test)\n",
    "    pred_list.append(pred)\n",
    "    pearson = pearsonr(y_test, pred)\n",
    "    ps.append(pearson[0])\n",
    "\n",
    "ps = np.exp(ps) / np.exp(ps).sum()\n",
    "\n",
    "avg_pred = []\n",
    "for i in range(len(ps)):\n",
    "    p = pred_list[i]\n",
    "    avg_pred.append(p*ps[i])\n",
    "\n",
    "avg = np.zeros(X_test.shape[0])\n",
    "for a in avg_pred:\n",
    "    avg = np.add(avg, a)\n",
    "\n",
    "pearson = pearsonr(y_test, avg)\n",
    "print(pearson[0])"
   ]
  },
  {
   "cell_type": "markdown",
   "metadata": {},
   "source": [
    "### retrain on all data (training & test) with best tuned parameters\n",
    "### Save best models to file to load them later so we do not train and tune again"
   ]
  },
  {
   "cell_type": "code",
   "execution_count": 62,
   "metadata": {},
   "outputs": [
    {
     "data": {
      "text/plain": [
       "RandomForestRegressor(bootstrap=True, criterion='mse', max_depth=10,\n",
       "           max_features='auto', max_leaf_nodes=None,\n",
       "           min_impurity_decrease=0.0, min_impurity_split=None,\n",
       "           min_samples_leaf=1, min_samples_split=2,\n",
       "           min_weight_fraction_leaf=0.0, n_estimators=1000, n_jobs=1,\n",
       "           oob_score=False, random_state=222, verbose=0, warm_start=False)"
      ]
     },
     "execution_count": 62,
     "metadata": {},
     "output_type": "execute_result"
    }
   ],
   "source": [
    "X = np.append(X_train, X_test, axis=0)\n",
    "y = np.append(y_train, y_test, axis=0)\n",
    "\n",
    "best_ridge_model = Ridge(alpha=best_alpha, random_state=seed)\n",
    "best_ridge_model.fit(X, y)\n",
    "\n",
    "best_svr_model = SVR(C=best_C)\n",
    "best_svr_model.fit(X, y)\n",
    "\n",
    "best_random_forest_model = RandomForestRegressor(n_estimators=1000, max_depth=10, random_state=seed)\n",
    "best_random_forest_model.fit(X, y)"
   ]
  },
  {
   "cell_type": "code",
   "execution_count": 63,
   "metadata": {},
   "outputs": [
    {
     "data": {
      "text/plain": [
       "['models/final/task_3_sentiment_embeddings_random_forest.sav']"
      ]
     },
     "execution_count": 63,
     "metadata": {},
     "output_type": "execute_result"
    }
   ],
   "source": [
    "from sklearn.externals import joblib\n",
    "\n",
    "joblib.dump(best_ridge_model, 'models/final/task_3_sentiment_embeddings_ridge.sav')\n",
    "joblib.dump(best_svr_model, 'models/final/task_3_sentiment_embeddings_svr.sav')\n",
    "joblib.dump(best_random_forest_model, 'models/final/task_3_sentiment_embeddings_random_forest.sav')\n",
    "\n",
    "# to load models:\n",
    "# load the model from disk\n",
    "#best_ridge_model = joblib.load('best_ridge_model_using_embeddings.sav')"
   ]
  },
  {
   "cell_type": "code",
   "execution_count": null,
   "metadata": {},
   "outputs": [],
   "source": []
  },
  {
   "cell_type": "code",
   "execution_count": 6,
   "metadata": {},
   "outputs": [
    {
     "ename": "NameError",
     "evalue": "name 'joblib' is not defined",
     "output_type": "error",
     "traceback": [
      "\u001b[1;31m---------------------------------------------------------------------------\u001b[0m",
      "\u001b[1;31mNameError\u001b[0m                                 Traceback (most recent call last)",
      "\u001b[1;32m<ipython-input-6-7ce847961daa>\u001b[0m in \u001b[0;36m<module>\u001b[1;34m()\u001b[0m\n\u001b[0;32m     20\u001b[0m \u001b[1;33m\u001b[0m\u001b[0m\n\u001b[0;32m     21\u001b[0m \u001b[1;31m#load models\u001b[0m\u001b[1;33m\u001b[0m\u001b[1;33m\u001b[0m\u001b[0m\n\u001b[1;32m---> 22\u001b[1;33m \u001b[0mridge\u001b[0m \u001b[1;33m=\u001b[0m \u001b[0mjoblib\u001b[0m\u001b[1;33m.\u001b[0m\u001b[0mload\u001b[0m\u001b[1;33m(\u001b[0m\u001b[1;34m'models/final/task_3_sentiment_embeddings_ridge.sav'\u001b[0m\u001b[1;33m)\u001b[0m\u001b[1;33m\u001b[0m\u001b[0m\n\u001b[0m\u001b[0;32m     23\u001b[0m \u001b[0msvr\u001b[0m \u001b[1;33m=\u001b[0m \u001b[0mjoblib\u001b[0m\u001b[1;33m.\u001b[0m\u001b[0mload\u001b[0m\u001b[1;33m(\u001b[0m\u001b[1;34m'models/final/task_3_sentiment_embeddings_svr.sav'\u001b[0m\u001b[1;33m)\u001b[0m\u001b[1;33m\u001b[0m\u001b[0m\n\u001b[0;32m     24\u001b[0m \u001b[0mrandom_forest\u001b[0m \u001b[1;33m=\u001b[0m \u001b[0mjoblib\u001b[0m\u001b[1;33m.\u001b[0m\u001b[0mload\u001b[0m\u001b[1;33m(\u001b[0m\u001b[1;34m'models/final/task_3_sentiment_embeddings_random_forest.sav'\u001b[0m\u001b[1;33m)\u001b[0m\u001b[1;33m\u001b[0m\u001b[0m\n",
      "\u001b[1;31mNameError\u001b[0m: name 'joblib' is not defined"
     ]
    }
   ],
   "source": [
    "def ensemble_predict(models, X):\n",
    "    avg_pred = np.zeros(X.shape[0])\n",
    "    for model in models:\n",
    "        pred = model.predict(X)\n",
    "        avg_pred = np.add(avg_pred, pred)\n",
    "    avg_pred = avg_pred / len(models)\n",
    "    return avg_pred\n",
    "\n",
    "# load the embeddings models\n",
    "tweeter_embeddings = gensim.models.Word2Vec.load('resources/Twt-SG') # tweeter\n",
    "#emoji_embeddings = KeyedVectors.load_word2vec_format('C:\\\\Users\\\\oae15\\\\Downloads\\\\Compressed\\\\emoji2vec.txt', binary=False) # emojis\n",
    "prep = Arabic_preprocessing()\n",
    "stemmer = ARLSTem()\n",
    "\n",
    "#prepare dataset\n",
    "df=pd.read_csv('data/sentiment/2018-Valence-reg-Ar-test.txt', delimiter='\\t', header=0)\n",
    "df['Tweet_preprocessed'] = df['Tweet'].apply(lambda x : prep.preprocess_arabic_text(x, stem=False, replace_emojis=True, normalize_arabic=True))\n",
    "X = df['Tweet_preprocessed'].values\n",
    "X = np.array([featurize(tweeter_embeddings, tweet, stemmer) for tweet in X])\n",
    "\n",
    "from sklearn.externals import joblib\n",
    "\n",
    "#load models\n",
    "ridge = joblib.load('models/final/task_3_sentiment_embeddings_ridge.sav')\n",
    "svr = joblib.load('models/final/task_3_sentiment_embeddings_svr.sav')\n",
    "random_forest = joblib.load('models/final/task_3_sentiment_embeddings_random_forest.sav')\n",
    "\n",
    "models = [ridge, svr, random_forest]\n",
    "y_pred = ensemble_predict(models, X)\n",
    "df['Intensity Score'] = y_pred\n",
    "df['Intensity Score'] = df['Intensity Score'].apply(lambda x : float(format(x, '1.3f')))\n",
    "df = df.drop(['Tweet_preprocessed'], axis=1)\n",
    "df.to_csv('data/pred/V-reg_ar_pred.txt', sep='\\t', index=False, header=True)"
   ]
  },
  {
   "cell_type": "code",
   "execution_count": 1,
   "metadata": {},
   "outputs": [
    {
     "name": "stdout",
     "output_type": "stream",
     "text": [
      "3.9\n",
      "6.5\n",
      "10\n"
     ]
    }
   ],
   "source": [
    "from sklearn.externals import joblib\n",
    "\n",
    "#load models\n",
    "ridge = joblib.load('models/final/task_3_sentiment_embeddings_ridge.sav')\n",
    "svr = joblib.load('models/final/task_3_sentiment_embeddings_svr.sav')\n",
    "random_forest = joblib.load('models/final/task_3_sentiment_embeddings_random_forest.sav')\n",
    "\n",
    "print(ridge.alpha)\n",
    "print(svr.C)\n",
    "print(random_forest.max_depth)"
   ]
  }
 ],
 "metadata": {
  "kernelspec": {
   "display_name": "Python 3",
   "language": "python",
   "name": "python3"
  },
  "language_info": {
   "codemirror_mode": {
    "name": "ipython",
    "version": 3
   },
   "file_extension": ".py",
   "mimetype": "text/x-python",
   "name": "python",
   "nbconvert_exporter": "python",
   "pygments_lexer": "ipython3",
   "version": "3.5.4"
  }
 },
 "nbformat": 4,
 "nbformat_minor": 2
}
