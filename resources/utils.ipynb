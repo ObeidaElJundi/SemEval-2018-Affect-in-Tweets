{
 "cells": [
  {
   "cell_type": "markdown",
   "metadata": {},
   "source": [
    "## ArSeL : Buckwalter to arabic"
   ]
  },
  {
   "cell_type": "code",
   "execution_count": 36,
   "metadata": {},
   "outputs": [],
   "source": [
    "import pandas as pd\n",
    "import subprocess\n",
    "import re\n",
    "df = pd.read_csv('ArSEL.txt', header=0, delimiter=';')\n",
    "#df.head()\n",
    "buckwalter_lemmas = df[['SAMA_Lemma']].values\n",
    "buckwalter_lemmas = '\\n'.join(buckwalter_lemmas[:,0])\n",
    "buckwalter_lemmas = re.sub('_\\d+', '', buckwalter_lemmas)\n",
    "with open('buckwalter_lemmas.txt', 'w', encoding='utf-8') as file:\n",
    "        file.write(buckwalter_lemmas)\n",
    "cmd  = 'python buckwalter2unicode.py -i buckwalter_lemmas.txt -o arabic_lemmas.txt'\n",
    "output = subprocess.check_output(cmd, stderr=subprocess.STDOUT, shell=True)\n",
    "output = output.decode(\"utf-8\") # convert bytes to string\n",
    "file = open('arabic_lemmas.txt', 'r', encoding='utf-8')\n",
    "a = file.read()\n",
    "file.close()\n",
    "a = a[:-1]\n",
    "a = re.sub('(-| )', '', a)\n",
    "a = re.sub(\"[ٱإأآا]\", \"ا\", a)\n",
    "a = re.sub(\"ى\", \"ي\", a)\n",
    "a = re.sub(\"ة\", \"ه\", a)  # replace ta2 marboota by ha2\n",
    "arabic_diacritics = re.compile(\"\"\"\n",
    "                                 ّ    | # Tashdid\n",
    "                                 َ    | # Fatha\n",
    "                                 ً    | # Tanwin Fath\n",
    "                                 ُ    | # Damma\n",
    "                                 ٌ    | # Tanwin Damm\n",
    "                                 ِ    | # Kasra\n",
    "                                 ٍ    | # Tanwin Kasr\n",
    "                                 ْ    | # Sukun\n",
    "                                 ـ     # Tatwil/Kashida\n",
    "\n",
    "                             \"\"\", re.VERBOSE)\n",
    "a = re.sub(arabic_diacritics, '', a)\n",
    "ar_lemmas = a.split('\\n')\n",
    "df['Ar_Lemma'] = ar_lemmas\n",
    "df.to_csv('ArSEL_arabic_lemmas.csv', index=False, header=True, na_rep='NA')"
   ]
  }
 ],
 "metadata": {
  "kernelspec": {
   "display_name": "Python 3",
   "language": "python",
   "name": "python3"
  },
  "language_info": {
   "codemirror_mode": {
    "name": "ipython",
    "version": 3
   },
   "file_extension": ".py",
   "mimetype": "text/x-python",
   "name": "python",
   "nbconvert_exporter": "python",
   "pygments_lexer": "ipython3",
   "version": "3.5.4"
  }
 },
 "nbformat": 4,
 "nbformat_minor": 2
}
