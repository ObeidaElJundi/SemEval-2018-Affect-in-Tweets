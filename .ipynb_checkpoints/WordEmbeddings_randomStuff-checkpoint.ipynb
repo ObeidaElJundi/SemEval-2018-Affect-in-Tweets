{
 "cells": [
  {
   "cell_type": "markdown",
   "metadata": {},
   "source": [
    "## Testing & playing with Word Embeddings"
   ]
  },
  {
   "cell_type": "code",
   "execution_count": 2,
   "metadata": {},
   "outputs": [],
   "source": [
    "# -*- coding: utf8 -*-\n",
    "import gensim"
   ]
  },
  {
   "cell_type": "markdown",
   "metadata": {},
   "source": [
    "### Tweets Embeddings (https://github.com/bakrianoo/aravec)"
   ]
  },
  {
   "cell_type": "code",
   "execution_count": 87,
   "metadata": {},
   "outputs": [],
   "source": [
    "# load the model\n",
    "model = gensim.models.Word2Vec.load('C:\\\\Users\\\\oae15\\\\Downloads\\\\Compressed\\\\Twt-SG\\\\Twt-SG')"
   ]
  },
  {
   "cell_type": "code",
   "execution_count": 89,
   "metadata": {},
   "outputs": [
    {
     "name": "stdout",
     "output_type": "stream",
     "text": [
      "204448\n",
      "<class 'dict'>\n"
     ]
    }
   ],
   "source": [
    "# model length\n",
    "print(len(model.wv.vocab))\n",
    "\n",
    "#print(len(model.vocab))\n",
    "\n",
    "print(type(model.wv.vocab))"
   ]
  },
  {
   "cell_type": "code",
   "execution_count": 8,
   "metadata": {},
   "outputs": [
    {
     "name": "stdout",
     "output_type": "stream",
     "text": [
      "(300,)\n",
      "[-0.10839421  0.09138662 -0.35472968  0.39736253 -0.09697727  0.22064325\n",
      " -0.21969014 -0.14091577  0.08716107  0.21912374  0.42986417 -0.00326329\n",
      " -0.12883724  0.09176949 -0.20214131 -0.12370671 -0.13858204  0.0138018\n",
      " -0.11687897  0.2257821  -0.21549632 -0.2341325   0.12628528 -0.23617908\n",
      "  0.20452431  0.11834913 -0.24664535 -0.01505378  0.06017434 -0.05228602\n",
      " -0.13811375  0.01898501  0.13786076  0.09435657  0.08092331 -0.09469444\n",
      "  0.4267219  -0.30736586 -0.0498416   0.1247642   0.03759022  0.50961906\n",
      " -0.37867928 -0.02934707  0.08601025  0.17956714  0.17601164  0.47291353\n",
      " -0.22509554  0.22936483  0.26485905  0.06402382 -0.00897211  0.31328171\n",
      " -0.00905758 -0.04255282 -0.27249449  0.1157776   0.25323051 -0.23520882\n",
      " -0.23988013 -0.25885782 -0.1309604   0.1842871  -0.26517582  0.0581301\n",
      " -0.05798087  0.38387588  0.11803581  0.25754991  0.30073762  0.28911319\n",
      "  0.01451335  0.17272291  0.27696607  0.20779043 -0.11682101 -0.1930891\n",
      " -0.33148226  0.15588762  0.3880358  -0.00920448  0.17637585  0.09538542\n",
      "  0.04176452  0.10688386  0.23868728  0.02344269 -0.04644856  0.14604217\n",
      " -0.18104486  0.01717399 -0.29405865  0.08286926 -0.06056172 -0.46287796\n",
      "  0.10845517  0.12828642  0.36128676 -0.06015698  0.1092208  -0.03571925\n",
      "  0.0339113  -0.37432882  0.05988164  0.37458631 -0.29328203  0.12264429\n",
      "  0.18462332 -0.00197115 -0.30573487 -0.15375809  0.04877048 -0.17120758\n",
      " -0.13579568  0.18552513  0.26828355  0.49017656 -0.10699464 -0.19186155\n",
      " -0.32036552 -0.0437063  -0.34810194  0.04784707  0.23995574  0.09946968\n",
      "  0.27851498 -0.15353477 -0.15936126 -0.0230229   0.09572729 -0.39223328\n",
      " -0.10107268 -0.15752174  0.21352844  0.02403676  0.03400167 -0.18713427\n",
      " -0.2662248   0.14494875 -0.1753971   0.26048863  0.16093715  0.13561141\n",
      "  0.20660797  0.47485387 -0.08444978  0.27518559 -0.00464113 -0.4890579\n",
      "  0.11087438 -0.47915688 -0.15964049  0.28312558  0.13989441 -0.26467717\n",
      " -0.21900447 -0.3321991  -0.3754091   0.09144904  0.04217119 -0.08405124\n",
      "  0.05047801  0.10945081 -0.27738753  0.0039044  -0.10519777 -0.12031917\n",
      " -0.14424059  0.10658421 -0.26347056 -0.13666935  0.09522433 -0.00072094\n",
      " -0.08024392 -0.07682858 -0.30260208  0.13311905  0.27505645 -0.24274676\n",
      " -0.11612188  0.11566649  0.20595703  0.1769949  -0.46296269  0.17729147\n",
      "  0.11710378 -0.12083489  0.36699528 -0.12523025 -0.13603729  0.09890535\n",
      " -0.29977381 -0.13898747  0.16285129  0.1954446  -0.14303343  0.0090642\n",
      " -0.01857325  0.30938378  0.09385683 -0.29291236 -0.15118068 -0.01785085\n",
      " -0.14031081 -0.38183179 -0.21872355 -0.20565191  0.21982922 -0.28339845\n",
      " -0.46907172 -0.01585826 -0.10276913 -0.14230193 -0.27321586 -0.05177723\n",
      "  0.39385027  0.20155331  0.01865192 -0.0757165   0.0952103   0.25170314\n",
      "  0.33444151  0.29666167  0.35091558 -0.14270553 -0.19215275  0.51476544\n",
      "  0.04485594 -0.26802537 -0.00852204 -0.33822855 -0.02592558 -0.47308385\n",
      "  0.17497638 -0.37511218 -0.30827358  0.30800766  0.08613658  0.04617155\n",
      " -0.12745482  0.02523875 -0.30258003  0.36919069  0.04262444  0.12869924\n",
      " -0.05327822  0.18410857 -0.19001545 -0.25873825  0.58023953 -0.09887242\n",
      " -0.48909959 -0.02619072 -0.08560052 -0.0329175   0.0627302   0.0500334\n",
      " -0.46294871 -0.19386292 -0.31841829  0.26936191 -0.04193562 -0.17566024\n",
      "  0.07069106  0.46760777 -0.06867281 -0.12424562  0.33826068 -0.59815502\n",
      "  0.13077089  0.16952778  0.05888782  0.02731603  0.18783665  0.13189737\n",
      "  0.28601518  0.43351227 -0.21542346 -0.1202192   0.1569055   0.00725203\n",
      "  0.09914091  0.22776116 -0.3626906  -0.02590812  0.02144776 -0.33768526\n",
      " -0.30850896  0.04968406 -0.11019913 -0.09924591 -0.06454578  0.29973486\n",
      "  0.2459036   0.49684262  0.12456509  0.08802407 -0.13642617 -0.1841177 ]\n"
     ]
    }
   ],
   "source": [
    "# get a word vector\n",
    "word_vector = model.wv['جامعه']\n",
    "print(word_vector.shape)\n",
    "print(word_vector)"
   ]
  },
  {
   "cell_type": "code",
   "execution_count": 50,
   "metadata": {},
   "outputs": [
    {
     "name": "stdout",
     "output_type": "stream",
     "text": [
      "اشوي 0.7315714359283447\n",
      "شويا 0.6618170738220215\n",
      "شويات 0.6333547830581665\n",
      "اشويه 0.6227505207061768\n",
      "ششوي 0.6178196668624878\n",
      "شويه 0.608310341835022\n",
      "شؤي 0.594508171081543\n",
      "وشوي 0.5906755924224854\n",
      "شويتين 0.5700851678848267\n",
      "حبتين 0.5528500080108643\n"
     ]
    }
   ],
   "source": [
    "# find and print the most similar terms to a word\n",
    "most_similar = model.wv.most_similar('شوي')\n",
    "for term, score in most_similar:\n",
    "    print(term, score)"
   ]
  },
  {
   "cell_type": "code",
   "execution_count": 7,
   "metadata": {},
   "outputs": [
    {
     "name": "stdout",
     "output_type": "stream",
     "text": [
      "True\n"
     ]
    },
    {
     "data": {
      "text/plain": [
       "['الانستقرام', 'مقدمتهم', 'اموال', 'الصليبيخات', 'نقبله']"
      ]
     },
     "execution_count": 7,
     "metadata": {},
     "output_type": "execute_result"
    }
   ],
   "source": [
    "print('عاوز' in model.wv.vocab)\n",
    "list(model.wv.vocab.keys())[:5]"
   ]
  },
  {
   "cell_type": "markdown",
   "metadata": {},
   "source": [
    "### FaceBook Embeddings (wikipedia)"
   ]
  },
  {
   "cell_type": "code",
   "execution_count": 50,
   "metadata": {},
   "outputs": [],
   "source": [
    "from gensim.models.wrappers  import FastText\n",
    "\n",
    "FB_trained_model = gensim.models.KeyedVectors.load_word2vec_format('C:\\\\Users\\\\oae15\\\\Downloads\\\\Compressed\\\\wiki.ar.vec', binary=False)"
   ]
  },
  {
   "cell_type": "code",
   "execution_count": 60,
   "metadata": {},
   "outputs": [
    {
     "data": {
      "text/plain": [
       "300"
      ]
     },
     "execution_count": 60,
     "metadata": {},
     "output_type": "execute_result"
    }
   ],
   "source": [
    "len(FB_trained_model.wv['بقا'])"
   ]
  },
  {
   "cell_type": "code",
   "execution_count": 59,
   "metadata": {},
   "outputs": [
    {
     "name": "stdout",
     "output_type": "stream",
     "text": [
      "بعا 0.6326510310173035\n",
      "قا 0.6192600131034851\n",
      "سبقا 0.5837240815162659\n",
      "زقا 0.5790398120880127\n",
      "حا 0.5701289176940918\n",
      "نائيا 0.5657782554626465\n",
      "بشعا 0.5649769306182861\n",
      "بطيا 0.556555986404419\n",
      "بقال 0.5545694828033447\n",
      "ببرا 0.5521543025970459\n"
     ]
    }
   ],
   "source": [
    "# find and print the most similar terms to a word\n",
    "most_similar = FB_trained_model.wv.most_similar('بقا')\n",
    "for term, score in most_similar:\n",
    "    print(term, score)"
   ]
  },
  {
   "cell_type": "markdown",
   "metadata": {},
   "source": [
    "### News Embeddings (https://github.com/iamaziz/ar-embeddings)"
   ]
  },
  {
   "cell_type": "code",
   "execution_count": 5,
   "metadata": {},
   "outputs": [],
   "source": [
    "from gensim.models.keyedvectors import KeyedVectors\n",
    "# load the model\n",
    "word_vectors = KeyedVectors.load_word2vec_format('C:\\\\Users\\\\oae15\\\\Downloads\\\\Compressed\\\\arabic-news\\\\arabic-news.bin', binary=True)"
   ]
  },
  {
   "cell_type": "code",
   "execution_count": 10,
   "metadata": {},
   "outputs": [
    {
     "name": "stdout",
     "output_type": "stream",
     "text": [
      "(159175, 300)\n"
     ]
    }
   ],
   "source": [
    "print(word_vectors.syn0.shape)"
   ]
  },
  {
   "cell_type": "code",
   "execution_count": 15,
   "metadata": {},
   "outputs": [
    {
     "name": "stdout",
     "output_type": "stream",
     "text": [
      "ميته 0.37885844707489014\n",
      "متبعين 0.3571765124797821\n",
      "ليظهره 0.33383163809776306\n",
      "لأسلم 0.32984691858291626\n",
      "بباق 0.32429784536361694\n",
      "وآلامها 0.3199229836463928\n",
      "يضئ 0.31953853368759155\n",
      "المعزى 0.3181782364845276\n",
      "المعزي 0.31528738141059875\n",
      "آباءهم 0.3103591203689575\n"
     ]
    }
   ],
   "source": [
    "# find and print the most similar terms to a word\n",
    "most_similar = word_vectors.wv.most_similar('كره')\n",
    "for term, score in most_similar:\n",
    "    print(term, score)"
   ]
  },
  {
   "cell_type": "code",
   "execution_count": null,
   "metadata": {},
   "outputs": [],
   "source": []
  },
  {
   "cell_type": "code",
   "execution_count": null,
   "metadata": {},
   "outputs": [],
   "source": []
  },
  {
   "cell_type": "code",
   "execution_count": null,
   "metadata": {},
   "outputs": [],
   "source": []
  },
  {
   "cell_type": "code",
   "execution_count": null,
   "metadata": {},
   "outputs": [],
   "source": []
  },
  {
   "cell_type": "code",
   "execution_count": 8,
   "metadata": {},
   "outputs": [],
   "source": [
    "import pandas as pd\n",
    "\n",
    "df = pd.read_csv('resources/ArSEL_arabic_lemmas.csv', header=0)\n",
    "ar_lemmas = df['Ar_Lemma'].tolist()\n",
    "scores = df['HAPPY'].tolist()"
   ]
  },
  {
   "cell_type": "code",
   "execution_count": null,
   "metadata": {},
   "outputs": [],
   "source": [
    "count = 0\n",
    "no_emb = []\n",
    "for lemma in ar_lemmas:\n",
    "    if lemma in model.wv.vocab: count += 1\n",
    "    else: no_emb.append(lemma)\n",
    "print(count)\n",
    "print(len(ar_lemmas) - count)\n",
    "print(no_emb[:50])"
   ]
  },
  {
   "cell_type": "code",
   "execution_count": 16,
   "metadata": {},
   "outputs": [],
   "source": [
    "X, y = [], []\n",
    "for (score, lemma) in zip(scores, ar_lemmas):\n",
    "    if lemma in model.wv.vocab:\n",
    "        X.append(model.wv[lemma])\n",
    "        y.append(score)\n",
    "#print(len(X_train[0]), len(y_train))"
   ]
  },
  {
   "cell_type": "markdown",
   "metadata": {},
   "source": [
    "## Training Neural Net with embeddings"
   ]
  },
  {
   "cell_type": "code",
   "execution_count": 6,
   "metadata": {},
   "outputs": [
    {
     "name": "stdout",
     "output_type": "stream",
     "text": [
      "(800, 300)\n"
     ]
    }
   ],
   "source": [
    "import gensim\n",
    "from gensim.models.keyedvectors import KeyedVectors\n",
    "import pandas as pd\n",
    "import numpy as np\n",
    "import re\n",
    "from resources.arabic_preprocessing import Arabic_preprocessing\n",
    "\n",
    "seed = 222\n",
    "np.random.seed(seed)\n",
    "\n",
    "def is_emoji(token):\n",
    "    emojis_unicode = r'([\\U0001F600-\\U0001F64F\\U00002000-\\U00003000]+)'\n",
    "    match = re.match(emojis_unicode, token)\n",
    "    return True if match else False\n",
    "\n",
    "def featurize(words_embeddings, emoji_embeddings, sentence, include_emoji_embeddings=True):\n",
    "    \"\"\"average words' vectors\"\"\"\n",
    "    feature_vec = np.zeros((300,), dtype=\"float32\")\n",
    "    words = sentence.split(' ')\n",
    "    retrieved_words = 0\n",
    "    for token in words:\n",
    "        try:\n",
    "            if include_emoji_embeddings and is_emoji(token): feature_vec = np.add(feature_vec, emoji_embeddings.wv[token])\n",
    "            else: feature_vec = np.add(feature_vec, words_embeddings.wv[token])\n",
    "            retrieved_words += 1\n",
    "        except KeyError:\n",
    "            pass  # if a word is not in the embeddings' vocabulary discard it\n",
    "    np.seterr(divide='ignore', invalid='ignore')\n",
    "    feature_vec = np.divide(feature_vec, retrieved_words)\n",
    "    return feature_vec\n",
    "\n",
    "# load the embeddings models\n",
    "tweeter_embeddings = gensim.models.Word2Vec.load('C:\\\\Users\\\\oae15\\\\Downloads\\\\Compressed\\\\Twt-SG\\\\Twt-SG') # tweeter\n",
    "emoji_embeddings = KeyedVectors.load_word2vec_format('C:\\\\Users\\\\oae15\\\\Downloads\\\\Compressed\\\\emoji2vec.txt', binary=False) # emojis\n",
    "\n",
    "prep = Arabic_preprocessing()\n",
    "# prepare train data\n",
    "sample=pd.read_csv('data/joy_train.csv',header=None, names=['index', 'tweet','emotion','score'])\n",
    "sample['tweet'] = sample['tweet'].apply(lambda x : prep.preprocess_arabic_text(x, stem=False, replace_emojis=False, normalize_arabic=True))\n",
    "tweets = sample['tweet'].tolist()\n",
    "# prepare test data\n",
    "sample_test=pd.read_csv('data/joy_test.csv',header=None, names=['index', 'tweet','emotion','score'])\n",
    "sample_test['tweet'] = sample_test['tweet'].apply(lambda x : prep.preprocess_arabic_text(x, stem=False, replace_emojis=False, normalize_arabic=True))\n",
    "tweets_test = sample_test['tweet'].tolist()\n",
    "\n",
    "all_tweets = tweets + tweets_test\n",
    "\n",
    "X = np.zeros((800,300))\n",
    "for i,tweet in enumerate(all_tweets):\n",
    "    X[i,:] = featurize(tweeter_embeddings, emoji_embeddings, tweet, False)\n",
    "print(X.shape)"
   ]
  },
  {
   "cell_type": "code",
   "execution_count": 7,
   "metadata": {},
   "outputs": [
    {
     "name": "stdout",
     "output_type": "stream",
     "text": [
      "<class 'pandas.core.frame.DataFrame'>\n",
      "Int64Index: 799 entries, 0 to 799\n",
      "Columns: 301 entries, 0 to score\n",
      "dtypes: float64(301)\n",
      "memory usage: 1.8 MB\n"
     ]
    }
   ],
   "source": [
    "df = pd.DataFrame(X)\n",
    "y = sample['score'].tolist() + sample_test['score'].tolist()\n",
    "df['score'] = y\n",
    "df = df.dropna()\n",
    "df.info()"
   ]
  },
  {
   "cell_type": "code",
   "execution_count": 8,
   "metadata": {},
   "outputs": [],
   "source": [
    "X = df.iloc[:,:300].values\n",
    "y = df['score'].values\n",
    "X_train, X_test = X[:600,:], X[600:,:]\n",
    "y_train, y_test = y[:600], y[600:]"
   ]
  },
  {
   "cell_type": "markdown",
   "metadata": {},
   "source": [
    "#### Normalizing data (MaxMin)"
   ]
  },
  {
   "cell_type": "code",
   "execution_count": 9,
   "metadata": {},
   "outputs": [],
   "source": [
    "from sklearn.preprocessing import MinMaxScaler\n",
    "scaler = MinMaxScaler()\n",
    "X_new = scaler.fit_transform(X)\n",
    "X_train, X_test = X_new[:600,:], X_new[600:,:]"
   ]
  },
  {
   "cell_type": "markdown",
   "metadata": {},
   "source": [
    "#### Prepare training & test date (updated)"
   ]
  },
  {
   "cell_type": "code",
   "execution_count": 258,
   "metadata": {},
   "outputs": [
    {
     "name": "stdout",
     "output_type": "stream",
     "text": [
      "training data:  (728, 300) (728,)\n",
      "test data:  (224, 300) (224,)\n"
     ]
    }
   ],
   "source": [
    "%matplotlib inline\n",
    "import gensim\n",
    "import pandas as pd\n",
    "import numpy as np\n",
    "import re\n",
    "from resources.arabic_preprocessing import Arabic_preprocessing\n",
    "import matplotlib.pyplot as plt\n",
    "from sklearn.preprocessing import MinMaxScaler\n",
    "\n",
    "seed = 222\n",
    "np.random.seed(seed)\n",
    "    \n",
    "def featurize(words_embeddings, sentence):\n",
    "    \"\"\"average words' vectors\"\"\"\n",
    "    feature_vec = np.zeros((300,), dtype=\"float32\")\n",
    "    words = sentence.split(' ')\n",
    "    retrieved_words = 0\n",
    "    for token in words:\n",
    "        try:\n",
    "            feature_vec = np.add(feature_vec, words_embeddings.wv[token])\n",
    "            retrieved_words += 1\n",
    "        except KeyError:\n",
    "            pass  # if a word is not in the embeddings' vocabulary discard it\n",
    "    np.seterr(divide='ignore', invalid='ignore')\n",
    "    feature_vec = np.divide(feature_vec, retrieved_words)\n",
    "    return feature_vec\n",
    "\n",
    "def read_dataset_preprocess_featurize(csv_path, preprocess_object, words_embeddings, words_embeddings_size=300):\n",
    "    sample=pd.read_csv(csv_path, delimiter='\\t', skiprows=1, header=None, names=['index', 'tweet','emotion','score'])\n",
    "    sample['tweet'] = sample['tweet'].apply(lambda x : preprocess_object.preprocess_arabic_text(x, stem=False, replace_emojis=True, normalize_arabic=True))\n",
    "    sample = sample.dropna()\n",
    "    tweets = sample['tweet'].tolist()\n",
    "    scores = sample['score'].values\n",
    "    tweets_number = len(tweets)\n",
    "    tweets_embeddings = np.zeros((tweets_number,words_embeddings_size))\n",
    "    for i,tweet in enumerate(tweets):\n",
    "        tweets_embeddings[i,:] = featurize(words_embeddings, tweet)\n",
    "    return tweets_embeddings, scores\n",
    "\n",
    "prep = Arabic_preprocessing()\n",
    "tweeter_embeddings = gensim.models.Word2Vec.load('resources\\\\Twt-SG') # load tweeter word embeddings\n",
    "\n",
    "# prepare train data\n",
    "X_train, y_train = read_dataset_preprocess_featurize('data/2018-EI-reg-Ar-joy-train.txt', prep, tweeter_embeddings, 300)\n",
    "# prepare test data\n",
    "X_test, y_test = read_dataset_preprocess_featurize('data/2018-EI-reg-Ar-joy-dev.txt', prep, tweeter_embeddings, 300)\n",
    "\n",
    "#normalize data\n",
    "scaler = MinMaxScaler()\n",
    "scaler.fit(np.append(X_train, X_test, axis=0))\n",
    "X_train = scaler.transform(X_train)\n",
    "X_test = scaler.transform(X_test)\n",
    "print('training data: ', X_train.shape, y_train.shape)\n",
    "print('test data: ', X_test.shape, y_test.shape)"
   ]
  },
  {
   "cell_type": "markdown",
   "metadata": {},
   "source": [
    "#### Ridge"
   ]
  },
  {
   "cell_type": "code",
   "execution_count": 259,
   "metadata": {},
   "outputs": [
    {
     "data": {
      "image/png": "[encoded data removed]",
      "text/plain": [
       "<matplotlib.figure.Figure at 0x27d912c02e8>"
      ]
     },
     "metadata": {},
     "output_type": "display_data"
    },
    {
     "name": "stdout",
     "output_type": "stream",
     "text": [
      "maximum R^2:  0.336794600698\n",
      "Best alpha:  15\n",
      "Pearson score = 0.585259933443\n"
     ]
    }
   ],
   "source": [
    "from sklearn import linear_model\n",
    "import matplotlib.pyplot as plt\n",
    "from scipy.stats import pearsonr\n",
    "\n",
    "alphas = [0.1,0.3,0.5,0.75,1,2,3,4,5,8,10,15,20,25,30,35,40,45,50,60]\n",
    "r2 = []\n",
    "max_r2, best_alpha = 0, 0\n",
    "for alpha in alphas:\n",
    "    model = linear_model.Ridge(alpha=alpha, random_state=seed)\n",
    "    model.fit(X_train, y_train) # Train the model using the training sets\n",
    "    r = model.score(X_test, np.array(y_test))\n",
    "    if r > max_r2: max_r2, best_alpha = r, alpha\n",
    "    r2.append(r)\n",
    "\n",
    "plt.plot(alphas,r2)\n",
    "plt.xlabel('alphas')\n",
    "plt.ylabel('R^2')\n",
    "plt.title('Ridge')\n",
    "plt.show()\n",
    "\n",
    "print('maximum R^2: ', max_r2)\n",
    "print('Best alpha: ', best_alpha)\n",
    "\n",
    "best_ridge_model = linear_model.Ridge(alpha=best_alpha, random_state=seed)\n",
    "best_ridge_model.fit(X_train, y_train) # Train the model using the training sets\n",
    "y_pred = best_ridge_model.predict(X_test) # Make predictions using the testing set\n",
    "pearson = pearsonr(y_test, y_pred)\n",
    "print('Pearson score = ' + str(pearson[0]))"
   ]
  },
  {
   "cell_type": "markdown",
   "metadata": {},
   "source": [
    "#### Random Forest"
   ]
  },
  {
   "cell_type": "code",
   "execution_count": 11,
   "metadata": {},
   "outputs": [
    {
     "data": {
      "image/png": "[encoded data removed]",
      "text/plain": [
       "<matplotlib.figure.Figure at 0x1eb1c435588>"
      ]
     },
     "metadata": {},
     "output_type": "display_data"
    },
    {
     "name": "stdout",
     "output_type": "stream",
     "text": [
      "maximum R^2:  0.289902005832\n",
      "Best depth:  10\n",
      "Pearson score = 0.579968397137\n"
     ]
    }
   ],
   "source": [
    "from sklearn.ensemble import RandomForestRegressor\n",
    "\n",
    "depths = [1,2,3,4,5,6,8,10,15,20]\n",
    "r2 = []\n",
    "max_r2, best_depth = 0, 0\n",
    "for depth in depths:\n",
    "    model = RandomForestRegressor(n_estimators=1000, max_depth=depth, random_state=seed)\n",
    "    model.fit(X_train, y_train) # Train the model using the training sets\n",
    "    r = model.score(X_test, np.array(y_test))\n",
    "    if r > max_r2: max_r2, best_depth = r, depth\n",
    "    r2.append(r)\n",
    "\n",
    "plt.plot(depths,r2)\n",
    "plt.xlabel('depths')\n",
    "plt.ylabel('R^2')\n",
    "plt.title('Random Forest')\n",
    "plt.show()\n",
    "\n",
    "print('maximum R^2: ', max_r2)\n",
    "print('Best depth: ', best_depth)\n",
    "\n",
    "best_random_forest_model = RandomForestRegressor(n_estimators=1000, max_depth=best_depth, random_state=seed)\n",
    "best_random_forest_model.fit(X_train, y_train) # Train the model using the training sets\n",
    "y_pred = best_random_forest_model.predict(X_test) # Make predictions using the testing set\n",
    "pearson = pearsonr(y_test, y_pred)\n",
    "print('Pearson score = ' + str(pearson[0]))"
   ]
  },
  {
   "cell_type": "markdown",
   "metadata": {},
   "source": [
    "#### SRV"
   ]
  },
  {
   "cell_type": "code",
   "execution_count": 260,
   "metadata": {},
   "outputs": [
    {
     "data": {
      "image/png": "[encoded data removed]",
      "text/plain": [
       "<matplotlib.figure.Figure at 0x27dbb2a0588>"
      ]
     },
     "metadata": {},
     "output_type": "display_data"
    },
    {
     "name": "stdout",
     "output_type": "stream",
     "text": [
      "maximum R^2:  0.356978315261\n",
      "Best C:  3\n",
      "Pearson score = 0.602169061256\n"
     ]
    }
   ],
   "source": [
    "from sklearn.svm import SVR\n",
    "\n",
    "Cs = [0.1,0.3,0.5,0.75,1,2,3,4,5,8,10,15,20,25,30,35,40,45,50,60]\n",
    "r2 = []\n",
    "max_r2, best_C = 0, 0\n",
    "for c in Cs:\n",
    "    model = SVR(C=c)\n",
    "    model.fit(X_train, y_train) # Train the model using the training sets\n",
    "    r = model.score(X_test, np.array(y_test))\n",
    "    if r > max_r2: max_r2, best_C = r, c\n",
    "    r2.append(r)\n",
    "\n",
    "plt.plot(Cs,r2)\n",
    "plt.xlabel('C')\n",
    "plt.ylabel('R^2')\n",
    "plt.title('SVR')\n",
    "plt.show()\n",
    "\n",
    "print('maximum R^2: ', max_r2)\n",
    "print('Best C: ', best_C)\n",
    "\n",
    "best_svr_model = SVR(C=best_C)\n",
    "best_svr_model.fit(X_train, y_train) # Train the model using the training sets\n",
    "y_pred = best_svr_model.predict(X_test) # Make predictions using the testing set\n",
    "pearson = pearsonr(y_test, y_pred)\n",
    "print('Pearson score = ' + str(pearson[0]))"
   ]
  },
  {
   "cell_type": "markdown",
   "metadata": {},
   "source": [
    "#### AdaBoost"
   ]
  },
  {
   "cell_type": "code",
   "execution_count": 262,
   "metadata": {},
   "outputs": [
    {
     "name": "stdout",
     "output_type": "stream",
     "text": [
      "R^2:  0.259401439798\n",
      "Pearson score = 0.538521207861\n"
     ]
    }
   ],
   "source": [
    "from sklearn.ensemble import AdaBoostRegressor\n",
    "\n",
    "AdaBoost_model = AdaBoostRegressor(base_estimator=SVR(C=3), random_state=seed)\n",
    "AdaBoost_model.fit(X_train, y_train) # Train the model using the training sets\n",
    "r2 = AdaBoost_model.score(X_test, np.array(y_test))\n",
    "print('R^2: ', r2)\n",
    "y_pred = AdaBoost_model.predict(X_test) # Make predictions using the testing set\n",
    "pearson = pearsonr(y_test, y_pred)\n",
    "print('Pearson score = ' + str(pearson[0]))"
   ]
  },
  {
   "cell_type": "code",
   "execution_count": 274,
   "metadata": {},
   "outputs": [
    {
     "name": "stdout",
     "output_type": "stream",
     "text": [
      "Pearson score = 0.518954183872\n"
     ]
    }
   ],
   "source": [
    "import xgboost\n",
    "\n",
    "xg_reg = xgboost.XGBRegressor(objective='reg:linear', max_depth=5, n_estimators=100, seed=seed)\n",
    "xg_reg.fit(X_train, y_train)\n",
    "y_pred = xg_reg.predict(X_test)\n",
    "pearson = pearsonr(y_test, y_pred)\n",
    "print('Pearson score = ' + str(pearson[0]))"
   ]
  },
  {
   "cell_type": "markdown",
   "metadata": {},
   "source": [
    "#### Manual Ensemble"
   ]
  },
  {
   "cell_type": "code",
   "execution_count": 38,
   "metadata": {},
   "outputs": [
    {
     "name": "stdout",
     "output_type": "stream",
     "text": [
      "R^2:  0.358935245862\n",
      "Pearson score = 0.627178385388\n"
     ]
    }
   ],
   "source": [
    "from sklearn.metrics import mean_squared_error, r2_score\n",
    "\n",
    "ensemble_models = [best_ridge_model, best_svr_model, best_random_forest_model]\n",
    "avg_pred = np.zeros(X_test.shape[0])\n",
    "for model in ensemble_models:\n",
    "    pred = model.predict(X_test)\n",
    "    avg_pred = np.add(avg_pred, pred)\n",
    "avg_pred = avg_pred / len(ensemble_models)\n",
    "#ridge_pred = best_ridge_model.predict(X_test)\n",
    "#svr_pred = best_svr_model.predict(X_test)\n",
    "#random_forest_pred = best_random_forest_model.predict(X_test)\n",
    "#avg_pred = np.add(np.add(ridge_pred,svr_pred), random_forest_pred) / 3\n",
    "r2 = r2_score(y_test, avg_pred)\n",
    "print('R^2: ', r2)\n",
    "pearson = pearsonr(y_test, avg_pred)\n",
    "print('Pearson score = ' + str(pearson[0]))"
   ]
  },
  {
   "cell_type": "code",
   "execution_count": 102,
   "metadata": {},
   "outputs": [
    {
     "name": "stdout",
     "output_type": "stream",
     "text": [
      "Train on 600 samples, validate on 199 samples\n",
      "Epoch 1/200\n",
      "600/600 [==============================] - 0s - loss: 0.0625 - mean_squared_error: 0.0625 - val_loss: 0.0309 - val_mean_squared_error: 0.0309\n",
      "Epoch 2/200\n",
      "600/600 [==============================] - 0s - loss: 0.0346 - mean_squared_error: 0.0346 - val_loss: 0.0361 - val_mean_squared_error: 0.0361\n",
      "Epoch 3/200\n",
      "600/600 [==============================] - 0s - loss: 0.0351 - mean_squared_error: 0.0351 - val_loss: 0.0329 - val_mean_squared_error: 0.0329\n",
      "Epoch 4/200\n",
      "600/600 [==============================] - 0s - loss: 0.0338 - mean_squared_error: 0.0338 - val_loss: 0.0337 - val_mean_squared_error: 0.0337\n",
      "Epoch 5/200\n",
      "600/600 [==============================] - 0s - loss: 0.0341 - mean_squared_error: 0.0341 - val_loss: 0.0273 - val_mean_squared_error: 0.0273\n",
      "Epoch 6/200\n",
      "600/600 [==============================] - 0s - loss: 0.0308 - mean_squared_error: 0.0308 - val_loss: 0.0264 - val_mean_squared_error: 0.0264\n",
      "Epoch 7/200\n",
      "600/600 [==============================] - 0s - loss: 0.0310 - mean_squared_error: 0.0310 - val_loss: 0.0258 - val_mean_squared_error: 0.0258\n",
      "Epoch 8/200\n",
      "600/600 [==============================] - 0s - loss: 0.0307 - mean_squared_error: 0.0307 - val_loss: 0.0258 - val_mean_squared_error: 0.0258\n",
      "Epoch 9/200\n",
      "600/600 [==============================] - 0s - loss: 0.0305 - mean_squared_error: 0.0305 - val_loss: 0.0245 - val_mean_squared_error: 0.0245\n",
      "Epoch 10/200\n",
      "600/600 [==============================] - 0s - loss: 0.0296 - mean_squared_error: 0.0296 - val_loss: 0.0257 - val_mean_squared_error: 0.0257\n",
      "Epoch 11/200\n",
      "600/600 [==============================] - 0s - loss: 0.0279 - mean_squared_error: 0.0279 - val_loss: 0.0364 - val_mean_squared_error: 0.0364\n",
      "Epoch 12/200\n",
      "600/600 [==============================] - 0s - loss: 0.0278 - mean_squared_error: 0.0278 - val_loss: 0.0304 - val_mean_squared_error: 0.0304\n",
      "Epoch 13/200\n",
      "600/600 [==============================] - 0s - loss: 0.0295 - mean_squared_error: 0.0295 - val_loss: 0.0233 - val_mean_squared_error: 0.0233\n",
      "Epoch 14/200\n",
      "600/600 [==============================] - 0s - loss: 0.0280 - mean_squared_error: 0.0280 - val_loss: 0.0226 - val_mean_squared_error: 0.0226\n",
      "Epoch 15/200\n",
      "600/600 [==============================] - 0s - loss: 0.0263 - mean_squared_error: 0.0263 - val_loss: 0.0220 - val_mean_squared_error: 0.0220\n",
      "Epoch 16/200\n",
      "600/600 [==============================] - 0s - loss: 0.0261 - mean_squared_error: 0.0261 - val_loss: 0.0335 - val_mean_squared_error: 0.0335\n",
      "Epoch 17/200\n",
      "600/600 [==============================] - 0s - loss: 0.0285 - mean_squared_error: 0.0285 - val_loss: 0.0232 - val_mean_squared_error: 0.0232\n",
      "Epoch 18/200\n",
      "600/600 [==============================] - 0s - loss: 0.0244 - mean_squared_error: 0.0244 - val_loss: 0.0220 - val_mean_squared_error: 0.0220\n",
      "Epoch 19/200\n",
      "600/600 [==============================] - 0s - loss: 0.0257 - mean_squared_error: 0.0257 - val_loss: 0.0228 - val_mean_squared_error: 0.0228\n",
      "Epoch 20/200\n",
      "600/600 [==============================] - 0s - loss: 0.0242 - mean_squared_error: 0.0242 - val_loss: 0.0204 - val_mean_squared_error: 0.0204\n",
      "Epoch 21/200\n",
      "600/600 [==============================] - 0s - loss: 0.0254 - mean_squared_error: 0.0254 - val_loss: 0.0247 - val_mean_squared_error: 0.0247\n",
      "Epoch 22/200\n",
      "600/600 [==============================] - 0s - loss: 0.0259 - mean_squared_error: 0.0259 - val_loss: 0.0341 - val_mean_squared_error: 0.0341\n",
      "Epoch 23/200\n",
      "600/600 [==============================] - 0s - loss: 0.0252 - mean_squared_error: 0.0252 - val_loss: 0.0209 - val_mean_squared_error: 0.0209\n",
      "Epoch 24/200\n",
      "600/600 [==============================] - 0s - loss: 0.0257 - mean_squared_error: 0.0257 - val_loss: 0.0214 - val_mean_squared_error: 0.0214\n",
      "Epoch 25/200\n",
      "600/600 [==============================] - 0s - loss: 0.0240 - mean_squared_error: 0.0240 - val_loss: 0.0507 - val_mean_squared_error: 0.0507\n",
      "Epoch 26/200\n",
      "600/600 [==============================] - 0s - loss: 0.0256 - mean_squared_error: 0.0256 - val_loss: 0.0216 - val_mean_squared_error: 0.0216\n",
      "Epoch 27/200\n",
      "600/600 [==============================] - 0s - loss: 0.0239 - mean_squared_error: 0.0239 - val_loss: 0.0315 - val_mean_squared_error: 0.0315\n",
      "Epoch 28/200\n",
      "600/600 [==============================] - 0s - loss: 0.0230 - mean_squared_error: 0.0230 - val_loss: 0.0370 - val_mean_squared_error: 0.0370\n",
      "Epoch 29/200\n",
      "600/600 [==============================] - 0s - loss: 0.0237 - mean_squared_error: 0.0237 - val_loss: 0.0210 - val_mean_squared_error: 0.0210\n",
      "Epoch 30/200\n",
      "600/600 [==============================] - 0s - loss: 0.0233 - mean_squared_error: 0.0233 - val_loss: 0.0203 - val_mean_squared_error: 0.0203\n",
      "Epoch 31/200\n",
      "600/600 [==============================] - 0s - loss: 0.0227 - mean_squared_error: 0.0227 - val_loss: 0.0271 - val_mean_squared_error: 0.0271\n",
      "Epoch 32/200\n",
      "600/600 [==============================] - 0s - loss: 0.0237 - mean_squared_error: 0.0237 - val_loss: 0.0198 - val_mean_squared_error: 0.0198\n",
      "Epoch 33/200\n",
      "600/600 [==============================] - 0s - loss: 0.0207 - mean_squared_error: 0.0207 - val_loss: 0.0201 - val_mean_squared_error: 0.0201\n",
      "Epoch 34/200\n",
      "600/600 [==============================] - 0s - loss: 0.0224 - mean_squared_error: 0.0224 - val_loss: 0.0203 - val_mean_squared_error: 0.0203\n",
      "Epoch 35/200\n",
      "600/600 [==============================] - 0s - loss: 0.0222 - mean_squared_error: 0.0222 - val_loss: 0.0191 - val_mean_squared_error: 0.0191\n",
      "Epoch 36/200\n",
      "600/600 [==============================] - 0s - loss: 0.0232 - mean_squared_error: 0.0232 - val_loss: 0.0223 - val_mean_squared_error: 0.0223\n",
      "Epoch 37/200\n",
      "600/600 [==============================] - 0s - loss: 0.0218 - mean_squared_error: 0.0218 - val_loss: 0.0386 - val_mean_squared_error: 0.0386\n",
      "Epoch 38/200\n",
      "600/600 [==============================] - 0s - loss: 0.0226 - mean_squared_error: 0.0226 - val_loss: 0.0205 - val_mean_squared_error: 0.0205\n",
      "Epoch 39/200\n",
      "600/600 [==============================] - 0s - loss: 0.0204 - mean_squared_error: 0.0204 - val_loss: 0.0246 - val_mean_squared_error: 0.0246\n",
      "Epoch 40/200\n",
      "600/600 [==============================] - 0s - loss: 0.0223 - mean_squared_error: 0.0223 - val_loss: 0.0272 - val_mean_squared_error: 0.0272\n",
      "Epoch 41/200\n",
      "600/600 [==============================] - 0s - loss: 0.0213 - mean_squared_error: 0.0213 - val_loss: 0.0217 - val_mean_squared_error: 0.0217\n",
      "Epoch 42/200\n",
      "600/600 [==============================] - 0s - loss: 0.0240 - mean_squared_error: 0.0240 - val_loss: 0.0200 - val_mean_squared_error: 0.0200.02\n",
      "Epoch 43/200\n",
      "600/600 [==============================] - 0s - loss: 0.0204 - mean_squared_error: 0.0204 - val_loss: 0.0463 - val_mean_squared_error: 0.0463\n",
      "Epoch 44/200\n",
      "600/600 [==============================] - 0s - loss: 0.0228 - mean_squared_error: 0.0228 - val_loss: 0.0200 - val_mean_squared_error: 0.0200\n",
      "Epoch 45/200\n",
      "600/600 [==============================] - 0s - loss: 0.0197 - mean_squared_error: 0.0197 - val_loss: 0.0190 - val_mean_squared_error: 0.0190\n",
      "Epoch 46/200\n",
      "600/600 [==============================] - 0s - loss: 0.0221 - mean_squared_error: 0.0221 - val_loss: 0.0215 - val_mean_squared_error: 0.0215\n",
      "Epoch 47/200\n",
      "600/600 [==============================] - 0s - loss: 0.0216 - mean_squared_error: 0.0216 - val_loss: 0.0324 - val_mean_squared_error: 0.0324\n",
      "Epoch 48/200\n",
      "600/600 [==============================] - 0s - loss: 0.0201 - mean_squared_error: 0.0201 - val_loss: 0.0254 - val_mean_squared_error: 0.0254\n",
      "Epoch 49/200\n",
      "600/600 [==============================] - 0s - loss: 0.0208 - mean_squared_error: 0.0208 - val_loss: 0.0200 - val_mean_squared_error: 0.0200\n",
      "Epoch 50/200\n",
      "600/600 [==============================] - 0s - loss: 0.0203 - mean_squared_error: 0.0203 - val_loss: 0.0193 - val_mean_squared_error: 0.0193\n",
      "Epoch 51/200\n",
      "600/600 [==============================] - 0s - loss: 0.0204 - mean_squared_error: 0.0204 - val_loss: 0.0189 - val_mean_squared_error: 0.0189\n",
      "Epoch 52/200\n",
      "600/600 [==============================] - 0s - loss: 0.0200 - mean_squared_error: 0.0200 - val_loss: 0.0383 - val_mean_squared_error: 0.0383\n"
     ]
    }
   ],
   "source": [
    "from keras.layers import Dense, Dropout, Activation\n",
    "from keras.layers.convolutional import Convolution1D, MaxPooling1D\n",
    "from keras.models import Sequential\n",
    "from keras.wrappers.scikit_learn import KerasRegressor\n",
    "from keras.callbacks import EarlyStopping\n",
    "from keras.layers import Embedding, LSTM\n",
    "\n",
    "def baseline_model():\n",
    "    # create model\n",
    "    model = Sequential()\n",
    "    model.add(Dense(400, input_dim=300, activation='relu'))\n",
    "    model.add(Dropout(0.25))\n",
    "    model.add(Dense(200, activation='relu'))\n",
    "    #model.add(Dense(1, activation='sigmoid'))\n",
    "    model.add(Dense(1))\n",
    "    model.add(Activation('sigmoid'))\n",
    "    # Compile model\n",
    "    model.compile(loss='mse', optimizer='RMSprop', metrics=['mse'])\n",
    "    return model\n",
    "\n",
    "early_stop = EarlyStopping(monitor='mean_squared_error', patience=6)\n",
    "callbacks = [early_stop]\n",
    "estimator = KerasRegressor(build_fn=baseline_model, epochs=200, batch_size=32, verbose=True)\n",
    "history = estimator.fit(X_train, y_train, callbacks=callbacks, validation_data=(X_test,y_test)) #callbacks=callbacks\n",
    "#print(estimator.score(X_test, y_test))"
   ]
  },
  {
   "cell_type": "code",
   "execution_count": 101,
   "metadata": {},
   "outputs": [
    {
     "name": "stdout",
     "output_type": "stream",
     "text": [
      " 32/199 [===>..........................] - ETA: 0s0.031834627022\n"
     ]
    }
   ],
   "source": [
    "print(estimator.score(X_test, y_test))"
   ]
  },
  {
   "cell_type": "markdown",
   "metadata": {},
   "source": [
    "## Training Neural Networ to predict word joy score given its embeddings"
   ]
  },
  {
   "cell_type": "code",
   "execution_count": 26,
   "metadata": {},
   "outputs": [],
   "source": [
    "from keras.layers import Dense\n",
    "from keras.models import Sequential\n",
    "from keras.wrappers.scikit_learn import KerasRegressor\n",
    "from keras.callbacks import EarlyStopping\n",
    "from sklearn.model_selection import train_test_split\n",
    "import numpy as np"
   ]
  },
  {
   "cell_type": "code",
   "execution_count": 32,
   "metadata": {},
   "outputs": [
    {
     "name": "stdout",
     "output_type": "stream",
     "text": [
      "Epoch 1/60\n",
      "76719/76719 [==============================] - 9s - loss: 0.0057 - mean_squared_error: 0.0057     \n",
      "Epoch 2/60\n",
      "76719/76719 [==============================] - 9s - loss: 0.0048 - mean_squared_error: 0.0048     \n",
      "Epoch 3/60\n",
      "76719/76719 [==============================] - 9s - loss: 0.0046 - mean_squared_error: 0.0046     \n",
      "Epoch 4/60\n",
      "76719/76719 [==============================] - 9s - loss: 0.0044 - mean_squared_error: 0.0044     \n",
      "Epoch 5/60\n",
      "76719/76719 [==============================] - 9s - loss: 0.0043 - mean_squared_error: 0.0043     \n",
      "Epoch 6/60\n",
      "76719/76719 [==============================] - 9s - loss: 0.0041 - mean_squared_error: 0.0041     \n",
      "Epoch 7/60\n",
      "76719/76719 [==============================] - 9s - loss: 0.0041 - mean_squared_error: 0.0041     \n",
      "Epoch 8/60\n",
      "76719/76719 [==============================] - 9s - loss: 0.0040 - mean_squared_error: 0.0040     \n",
      "Epoch 9/60\n",
      "76719/76719 [==============================] - 9s - loss: 0.0039 - mean_squared_error: 0.0039     \n",
      "Epoch 10/60\n",
      "76719/76719 [==============================] - 9s - loss: 0.0038 - mean_squared_error: 0.0038     \n",
      "Epoch 11/60\n",
      "76719/76719 [==============================] - 9s - loss: 0.0038 - mean_squared_error: 0.0038     \n",
      "Epoch 12/60\n",
      "76719/76719 [==============================] - 9s - loss: 0.0037 - mean_squared_error: 0.0037     \n",
      "Epoch 13/60\n",
      "76719/76719 [==============================] - 9s - loss: 0.0037 - mean_squared_error: 0.0037     \n",
      "Epoch 14/60\n",
      "76719/76719 [==============================] - 9s - loss: 0.0037 - mean_squared_error: 0.0037     \n",
      "Epoch 15/60\n",
      "76719/76719 [==============================] - 9s - loss: 0.0037 - mean_squared_error: 0.0037     \n",
      "Epoch 16/60\n",
      "76719/76719 [==============================] - 9s - loss: 0.0036 - mean_squared_error: 0.0036     \n",
      "Epoch 17/60\n",
      "76719/76719 [==============================] - 9s - loss: 0.0036 - mean_squared_error: 0.0036     \n",
      "Epoch 18/60\n",
      "76719/76719 [==============================] - 9s - loss: 0.0036 - mean_squared_error: 0.0036     \n",
      "Epoch 19/60\n",
      "76719/76719 [==============================] - 9s - loss: 0.0036 - mean_squared_error: 0.0036     \n",
      "Epoch 20/60\n",
      "76719/76719 [==============================] - 9s - loss: 0.0036 - mean_squared_error: 0.0036     \n",
      "Epoch 21/60\n",
      "76719/76719 [==============================] - 9s - loss: 0.0035 - mean_squared_error: 0.0035     \n",
      "Epoch 22/60\n",
      "76719/76719 [==============================] - 9s - loss: 0.0035 - mean_squared_error: 0.0035     \n",
      "Epoch 23/60\n",
      "76719/76719 [==============================] - 9s - loss: 0.0035 - mean_squared_error: 0.0035     \n",
      "Epoch 24/60\n",
      "76719/76719 [==============================] - 9s - loss: 0.0035 - mean_squared_error: 0.0035     \n",
      "Epoch 25/60\n",
      "76719/76719 [==============================] - 10s - loss: 0.0035 - mean_squared_error: 0.0035    \n",
      "Epoch 26/60\n",
      "76719/76719 [==============================] - 10s - loss: 0.0035 - mean_squared_error: 0.0035    \n",
      "Epoch 27/60\n",
      "76719/76719 [==============================] - 9s - loss: 0.0035 - mean_squared_error: 0.0035     \n",
      "Epoch 28/60\n",
      "76719/76719 [==============================] - 9s - loss: 0.0035 - mean_squared_error: 0.0035     \n",
      "Epoch 29/60\n",
      "76719/76719 [==============================] - 9s - loss: 0.0034 - mean_squared_error: 0.0034     \n",
      "Epoch 30/60\n",
      "76719/76719 [==============================] - 9s - loss: 0.0034 - mean_squared_error: 0.0034     \n",
      "Epoch 31/60\n",
      "76719/76719 [==============================] - 9s - loss: 0.0034 - mean_squared_error: 0.0034     \n",
      "Epoch 32/60\n",
      "76719/76719 [==============================] - 10s - loss: 0.0034 - mean_squared_error: 0.0034    \n",
      "Epoch 33/60\n",
      "76719/76719 [==============================] - 9s - loss: 0.0034 - mean_squared_error: 0.0034     \n",
      "Epoch 34/60\n",
      "76719/76719 [==============================] - 9s - loss: 0.0034 - mean_squared_error: 0.0034     \n",
      "Epoch 35/60\n",
      "76719/76719 [==============================] - 10s - loss: 0.0034 - mean_squared_error: 0.0034    \n",
      "Epoch 36/60\n",
      "76719/76719 [==============================] - 9s - loss: 0.0034 - mean_squared_error: 0.0034     \n",
      "Epoch 37/60\n",
      "76719/76719 [==============================] - 9s - loss: 0.0034 - mean_squared_error: 0.0034     \n",
      "Epoch 38/60\n",
      "76719/76719 [==============================] - 9s - loss: 0.0034 - mean_squared_error: 0.0034     \n",
      "Epoch 39/60\n",
      "76719/76719 [==============================] - 9s - loss: 0.0034 - mean_squared_error: 0.0034     \n",
      "Epoch 40/60\n",
      "76719/76719 [==============================] - 9s - loss: 0.0034 - mean_squared_error: 0.0034     \n",
      "Epoch 41/60\n",
      "76719/76719 [==============================] - 9s - loss: 0.0034 - mean_squared_error: 0.0034     \n",
      "Epoch 42/60\n",
      "76719/76719 [==============================] - 9s - loss: 0.0034 - mean_squared_error: 0.0034     \n",
      "Epoch 43/60\n",
      "76719/76719 [==============================] - 9s - loss: 0.0034 - mean_squared_error: 0.0034     \n",
      "Epoch 44/60\n",
      "76719/76719 [==============================] - 9s - loss: 0.0034 - mean_squared_error: 0.0034     \n",
      "Epoch 45/60\n",
      "76719/76719 [==============================] - 9s - loss: 0.0033 - mean_squared_error: 0.0033     \n",
      "Epoch 46/60\n",
      "76719/76719 [==============================] - 9s - loss: 0.0033 - mean_squared_error: 0.0033     \n",
      "Epoch 47/60\n",
      "76719/76719 [==============================] - 9s - loss: 0.0033 - mean_squared_error: 0.0033     \n",
      "Epoch 48/60\n",
      "76719/76719 [==============================] - 9s - loss: 0.0033 - mean_squared_error: 0.0033     \n",
      "Epoch 49/60\n",
      "76719/76719 [==============================] - 9s - loss: 0.0033 - mean_squared_error: 0.0033     \n",
      "Epoch 50/60\n",
      "76719/76719 [==============================] - 9s - loss: 0.0033 - mean_squared_error: 0.0033     \n",
      "Epoch 51/60\n",
      "76719/76719 [==============================] - 9s - loss: 0.0033 - mean_squared_error: 0.0033     \n",
      "Epoch 52/60\n",
      "76719/76719 [==============================] - 9s - loss: 0.0033 - mean_squared_error: 0.0033     \n",
      "Epoch 53/60\n",
      "76719/76719 [==============================] - 9s - loss: 0.0033 - mean_squared_error: 0.0033     \n",
      "Epoch 54/60\n",
      "76719/76719 [==============================] - 9s - loss: 0.0033 - mean_squared_error: 0.0033     \n",
      "Epoch 55/60\n",
      "76719/76719 [==============================] - 9s - loss: 0.0033 - mean_squared_error: 0.0033     \n",
      "Epoch 56/60\n",
      "76719/76719 [==============================] - 9s - loss: 0.0033 - mean_squared_error: 0.0033     \n",
      "Epoch 57/60\n",
      "76719/76719 [==============================] - 9s - loss: 0.0033 - mean_squared_error: 0.0033     \n",
      "Epoch 58/60\n",
      "76719/76719 [==============================] - 9s - loss: 0.0033 - mean_squared_error: 0.0033     \n",
      "Epoch 59/60\n",
      "76719/76719 [==============================] - 9s - loss: 0.0033 - mean_squared_error: 0.0033     \n",
      "Epoch 60/60\n",
      "76719/76719 [==============================] - 9s - loss: 0.0033 - mean_squared_error: 0.0033     \n"
     ]
    }
   ],
   "source": [
    "def baseline_model():\n",
    "    # create model\n",
    "    model = Sequential()\n",
    "    model.add(Dense(200, input_dim=300, activation='relu'))\n",
    "    model.add(Dense(200, activation='relu'))\n",
    "    model.add(Dense(1))\n",
    "    # Compile model\n",
    "    model.compile(loss='mse', optimizer='adam', metrics=['mse'])\n",
    "    return model\n",
    "\n",
    "X_train, X_test, y_train, y_test = train_test_split(np.array(X), np.array(y), test_size=0.33, random_state=42)\n",
    "#print(all([isinstance(l,float) for l in y_train]))\n",
    "#print(all([len(l)==300 for l in X_train]))\n",
    "#print(len(X_train[0]))\n",
    "#X_small, y_small = np.array(X[:5]), np.array(y[:5])\n",
    "early_stop = EarlyStopping(monitor='mean_squared_error', patience=3)\n",
    "callbacks = [early_stop]\n",
    "estimator = KerasRegressor(build_fn=baseline_model, epochs=60, batch_size=32, verbose=True)\n",
    "history = estimator.fit(X_train, y_train, callbacks=callbacks)"
   ]
  },
  {
   "cell_type": "code",
   "execution_count": 33,
   "metadata": {},
   "outputs": [
    {
     "name": "stdout",
     "output_type": "stream",
     "text": [
      "37787/37787 [==============================] - 1s     \n"
     ]
    },
    {
     "data": {
      "text/plain": [
       "0.0047048339411413925"
      ]
     },
     "execution_count": 33,
     "metadata": {},
     "output_type": "execute_result"
    }
   ],
   "source": [
    "estimator.score(X_test, y_test)"
   ]
  },
  {
   "cell_type": "code",
   "execution_count": 43,
   "metadata": {},
   "outputs": [
    {
     "data": {
      "text/plain": [
       "0.018010324184401072"
      ]
     },
     "execution_count": 43,
     "metadata": {},
     "output_type": "execute_result"
    }
   ],
   "source": [
    "from sklearn import linear_model\n",
    "\n",
    "X_train, X_test, y_train, y_test = train_test_split(np.array(X), np.array(y), test_size=0.2, random_state=42)\n",
    "model = linear_model.Ridge(alpha=50, random_state=42)\n",
    "model.fit(X_train, y_train) # Train the model using the training sets\n",
    "model.score(X_test, y_test)\n"
   ]
  },
  {
   "cell_type": "code",
   "execution_count": null,
   "metadata": {},
   "outputs": [],
   "source": []
  },
  {
   "cell_type": "code",
   "execution_count": null,
   "metadata": {},
   "outputs": [],
   "source": []
  },
  {
   "cell_type": "code",
   "execution_count": null,
   "metadata": {},
   "outputs": [],
   "source": []
  },
  {
   "cell_type": "markdown",
   "metadata": {},
   "source": [
    "## Testing CNN+LSTM (2nd WASSA 2017 team model)"
   ]
  },
  {
   "cell_type": "code",
   "execution_count": 10,
   "metadata": {},
   "outputs": [
    {
     "name": "stdout",
     "output_type": "stream",
     "text": [
      "word embeddings found for unprocessed tweets:  65.15487895126336\n",
      "word embeddings found for preprocessed tweets:  90.83756345177665\n",
      "word embeddings found for preprocessed tweets (without stemming):  90.36802030456853\n"
     ]
    }
   ],
   "source": [
    "import gensim\n",
    "import pandas as pd\n",
    "from resources.arabic_preprocessing import Arabic_preprocessing\n",
    "\n",
    "def embeddings_found_percentage(tweets, wv): #tweets: list of str, wv: word vectors\n",
    "    total_words, embedding_found = 0, 0\n",
    "    for tweet in tweets:\n",
    "        for word in tweet.split():\n",
    "            total_words += 1\n",
    "            if word in wv.wv.vocab:\n",
    "                embedding_found += 1\n",
    "    return embedding_found/total_words *100\n",
    "\n",
    "# load the embeddings model\n",
    "model = gensim.models.Word2Vec.load('C:\\\\Users\\\\oae15\\\\Downloads\\\\Compressed\\\\Twt-SG\\\\Twt-SG')\n",
    "\n",
    "sample=pd.read_csv('data/joy_train.csv',header=None, names=['index', 'tweet','emotion','score'])\n",
    "prep = Arabic_preprocessing()\n",
    "sample['tweet_preprocessed'] = sample['tweet'].apply(lambda x : prep.preprocess_arabic_text(x))\n",
    "sample['tweet_preprocessed_without_stemming'] = sample['tweet'].apply(lambda x : prep.preprocess_arabic_text(x, stem=False))\n",
    "tweets = sample['tweet'].tolist()\n",
    "tweets_preprocessed = sample['tweet_preprocessed'].tolist()\n",
    "tweets_preprocessed_without_stemming = sample['tweet_preprocessed_without_stemming'].tolist()\n",
    "print('word embeddings found for unprocessed tweets: ', embeddings_found_percentage(tweets,model))\n",
    "print('word embeddings found for preprocessed tweets: ', embeddings_found_percentage(tweets_preprocessed,model))\n",
    "print('word embeddings found for preprocessed tweets (without stemming): ', embeddings_found_percentage(tweets_preprocessed_without_stemming,model))"
   ]
  },
  {
   "cell_type": "markdown",
   "metadata": {},
   "source": [
    "#### Preparing Data"
   ]
  },
  {
   "cell_type": "code",
   "execution_count": 31,
   "metadata": {},
   "outputs": [],
   "source": [
    "import gensim\n",
    "import pandas as pd\n",
    "import numpy as np\n",
    "from resources.arabic_preprocessing import Arabic_preprocessing\n",
    "from keras.preprocessing import sequence\n",
    "from keras.preprocessing.text import Tokenizer\n",
    "\n",
    "# size of the word embeddings\n",
    "embeddings_dim = 300\n",
    "# maximum number of words to consider in the representations\n",
    "max_features = 4000\n",
    "# maximum length of a sentence\n",
    "max_sent_len = 30\n",
    "## Random Seed\n",
    "seed = 27\n",
    "#number of dimensions in regression problem\n",
    "reg_dimensions = 1\n",
    "\n",
    "np.random.seed(seed)\n",
    "prep = Arabic_preprocessing()\n",
    "\n",
    "# load the embeddings model\n",
    "word_embeddings_model = gensim.models.Word2Vec.load('C:\\\\Users\\\\oae15\\\\Downloads\\\\Compressed\\\\Twt-SG\\\\Twt-SG')\n",
    "\n",
    "# prepare traing data\n",
    "sample=pd.read_csv('data/joy_train.csv',header=None, names=['index', 'tweet','emotion','score'])\n",
    "sample['tweet'] = sample['tweet'].apply(lambda x : prep.preprocess_arabic_text(x))\n",
    "tweets = sample['tweet'].tolist()\n",
    "# prepare test data\n",
    "sample_test=pd.read_csv('data/joy_test.csv',header=None, names=['index', 'tweet','emotion','score'])\n",
    "sample_test['tweet'] = sample_test['tweet'].apply(lambda x : prep.preprocess_arabic_text(x))\n",
    "tweets_test = sample_test['tweet'].tolist()\n",
    "\n",
    "tokenizer = Tokenizer(num_words=max_features, filters='%&()*+,-./:;<=>[\\\\]^_`{|}~\\t\\n',lower=False, split=\" \")\n",
    "tokenizer.fit_on_texts(tweets + tweets_test) # <-- Tokenizer based on all TEXTS\n",
    "\n",
    "train_sequences = sequence.pad_sequences( tokenizer.texts_to_sequences( tweets ) , maxlen=max_sent_len )\n",
    "y_train = sample['score'].tolist()\n",
    "test_sequences = sequence.pad_sequences( tokenizer.texts_to_sequences( tweets_test ) , maxlen=max_sent_len )\n",
    "y_test = sample_test['score'].tolist()\n",
    "\n",
    "embedding_weights = np.zeros( ( max_features , embeddings_dim ) )\n",
    "for word,index in tokenizer.word_index.items():\n",
    "    if index < max_features:\n",
    "        try: embedding_weights[index,:] = word_embeddings_model.wv[word]\n",
    "        except: embedding_weights[index,:] = np.random.rand( 1 , embeddings_dim )"
   ]
  },
  {
   "cell_type": "code",
   "execution_count": 34,
   "metadata": {},
   "outputs": [
    {
     "name": "stderr",
     "output_type": "stream",
     "text": [
      "C:\\Users\\oae15\\AppData\\Local\\Continuum\\anaconda3\\envs\\ML\\lib\\site-packages\\ipykernel_launcher.py:12: UserWarning: Update your `Conv1D` call to the Keras 2 API: `Conv1D(padding=\"valid\", activation=\"relu\", filters=300, strides=1, kernel_size=3)`\n",
      "  if sys.path[0] == '':\n",
      "C:\\Users\\oae15\\AppData\\Local\\Continuum\\anaconda3\\envs\\ML\\lib\\site-packages\\ipykernel_launcher.py:13: UserWarning: Update your `MaxPooling1D` call to the Keras 2 API: `MaxPooling1D(pool_size=2)`\n",
      "  del sys.path[0]\n"
     ]
    },
    {
     "name": "stdout",
     "output_type": "stream",
     "text": [
      "Epoch 1/20\n",
      "600/600 [==============================] - 9s - loss: 0.1532 - mean_squared_error: 0.0355     \n",
      "Epoch 2/20\n",
      "600/600 [==============================] - 6s - loss: 0.1302 - mean_squared_error: 0.0269     \n",
      "Epoch 3/20\n",
      "600/600 [==============================] - 7s - loss: 0.1015 - mean_squared_error: 0.0171     \n",
      "Epoch 4/20\n",
      "600/600 [==============================] - 6s - loss: 0.0942 - mean_squared_error: 0.0148     \n",
      "Epoch 5/20\n",
      "600/600 [==============================] - 5s - loss: 0.0849 - mean_squared_error: 0.0123     \n",
      "Epoch 6/20\n",
      "600/600 [==============================] - 6s - loss: 0.0742 - mean_squared_error: 0.0093     \n",
      "Epoch 7/20\n",
      "600/600 [==============================] - 5s - loss: 0.0625 - mean_squared_error: 0.0068     \n",
      "Epoch 8/20\n",
      "600/600 [==============================] - 5s - loss: 0.0648 - mean_squared_error: 0.0071     \n",
      "Epoch 9/20\n",
      "600/600 [==============================] - 5s - loss: 0.0636 - mean_squared_error: 0.0067     \n",
      "Epoch 10/20\n",
      "600/600 [==============================] - 6s - loss: 0.0636 - mean_squared_error: 0.0071     \n",
      "Epoch 11/20\n",
      "600/600 [==============================] - 6s - loss: 0.0512 - mean_squared_error: 0.0043     \n",
      "Epoch 12/20\n",
      "600/600 [==============================] - 6s - loss: 0.0509 - mean_squared_error: 0.0043     \n",
      "Epoch 13/20\n",
      "600/600 [==============================] - 6s - loss: 0.0475 - mean_squared_error: 0.0037     \n",
      "Epoch 14/20\n",
      "600/600 [==============================] - 6s - loss: 0.0416 - mean_squared_error: 0.0029     \n",
      "Epoch 15/20\n",
      "600/600 [==============================] - 6s - loss: 0.0445 - mean_squared_error: 0.0031     \n",
      "Epoch 16/20\n",
      "600/600 [==============================] - 6s - loss: 0.0446 - mean_squared_error: 0.0035     \n",
      "Epoch 17/20\n",
      "600/600 [==============================] - 6s - loss: 0.0424 - mean_squared_error: 0.0030     \n",
      "Epoch 18/20\n",
      "600/600 [==============================] - 6s - loss: 0.0423 - mean_squared_error: 0.0030     \n",
      "Epoch 19/20\n",
      "600/600 [==============================] - 5s - loss: 0.0372 - mean_squared_error: 0.0023     \n",
      "Epoch 20/20\n",
      "600/600 [==============================] - 6s - loss: 0.0353 - mean_squared_error: 0.0021     \n"
     ]
    }
   ],
   "source": [
    "from keras.models import Sequential\n",
    "from keras.layers.core import Dense, Dropout, Activation\n",
    "from keras.layers.convolutional import Convolution1D, MaxPooling1D\n",
    "from keras.layers import Embedding, LSTM\n",
    "\n",
    "filter_length = 3\n",
    "nb_filter = embeddings_dim\n",
    "pool_length = 2\n",
    "model = Sequential()\n",
    "model.add(Embedding(max_features, embeddings_dim, input_length=max_sent_len, weights=[embedding_weights]))\n",
    "model.add(Dropout(0.5))\n",
    "model.add(Convolution1D(nb_filter=nb_filter, filter_length=filter_length, border_mode='valid', activation='relu', subsample_length=1))\n",
    "model.add(MaxPooling1D(pool_length=pool_length))\n",
    "model.add(LSTM(embeddings_dim))\n",
    "model.add(Dense(reg_dimensions))\n",
    "model.add(Activation('sigmoid'))\n",
    "model.compile(loss='mean_absolute_error', optimizer='adam', metrics=['mse'])\n",
    "model.fit( train_sequences , y_train , epochs=20, batch_size=16)\n",
    "model.save(\"models/CNN_LSTM_Embeddings_20_epochs.h5\")  # creates a HDF5 file\n",
    "#results = model.predict( test_sequences )\n",
    "#np.savetxt(\"models/predictions_CNN_LSTM_Embeddings.txt\", results, newline='\\n')"
   ]
  },
  {
   "cell_type": "code",
   "execution_count": 35,
   "metadata": {},
   "outputs": [
    {
     "name": "stdout",
     "output_type": "stream",
     "text": [
      "Train: R2 : 0.968675, RMSE : 0.001064\n",
      "Test: R2 : 0.283799, RMSE : 0.022783\n",
      "Pearson score = 0.584550728745\n"
     ]
    }
   ],
   "source": [
    "from sklearn.metrics import mean_squared_error, r2_score\n",
    "from scipy.stats import pearsonr\n",
    "\n",
    "#results = model.predict( test_sequences )\n",
    "#np.savetxt(\"models/predictions_CNN_LSTM_Embeddings.txt\", results, newline='\\n')\n",
    "\n",
    "y_pred = model.predict(test_sequences)\n",
    "y_pred_train = model.predict(train_sequences)\n",
    "r2 = r2_score(y_test, y_pred)\n",
    "r2_train = r2_score(y_train, y_pred_train)\n",
    "rmse = mean_squared_error(y_test, y_pred)\n",
    "rmse_train = mean_squared_error(y_train, y_pred_train)\n",
    "print(\"Train: R2 : {0:f}, RMSE : {1:f}\".format( r2_train, rmse_train ) )\n",
    "print( \"Test: R2 : {0:f}, RMSE : {1:f}\".format( r2, rmse ) )\n",
    "\n",
    "pearson = pearsonr(y_test, y_pred[:,0])\n",
    "print('Pearson score = ' + str(pearson[0]))"
   ]
  },
  {
   "cell_type": "markdown",
   "metadata": {},
   "source": [
    "## Feature-Based: Lexicon (ArSeL) scores\n",
    "#### 7 features:\n",
    "1. Average rating score across all words\n",
    "2. Average rating score across all nouns\n",
    "3. Average rating score across all adjectives\n",
    "4. Average rating score across all verbs\n",
    "5. Average rating score across all hashtags\n",
    "6. Maximum rating score\n",
    "7. Standard deviation of all rating scores"
   ]
  },
  {
   "cell_type": "code",
   "execution_count": 159,
   "metadata": {},
   "outputs": [
    {
     "name": "stdout",
     "output_type": "stream",
     "text": [
      "(600, 4)\n",
      "(200, 4)\n"
     ]
    }
   ],
   "source": [
    "import pandas as pd\n",
    "import numpy as np\n",
    "import re\n",
    "from resources.arabic_preprocessing import Arabic_preprocessing\n",
    "\n",
    "def remove_emojis(text):\n",
    "    emojis_unicode = r'([\\U0001F600-\\U0001F64F\\U00002000-\\U00003000]+)'\n",
    "    return re.sub(emojis_unicode, '', text)\n",
    "\n",
    "prep = Arabic_preprocessing()\n",
    "sample=pd.read_csv('data/joy_train.csv',header=None, names=['index', 'tweet','emotion','score'])\n",
    "sample['tweet'] = sample['tweet'].apply(lambda x : prep.preprocess_arabic_text(x, stem=False, replace_emojis=False, normalize_arabic=False))\n",
    "sample['tweet'] = sample['tweet'].apply(lambda x : remove_emojis(x))\n",
    "#sample=sample.loc[sample['tweet'].str.len() > 10]\n",
    "#sample = sample.drop(sample[sample['tweet'].str.len() > 10].index)\n",
    "print(sample.shape)\n",
    "tweets = sample['tweet'].tolist()\n",
    "# prepare test data\n",
    "sample_test=pd.read_csv('data/joy_test.csv',header=None, names=['index', 'tweet','emotion','score'])\n",
    "sample_test['tweet'] = sample_test['tweet'].apply(lambda x : prep.preprocess_arabic_text(x, stem=False, replace_emojis=False, normalize_arabic=False))\n",
    "sample_test['tweet'] = sample_test['tweet'].apply(lambda x : remove_emojis(x))\n",
    "#sample_test=sample_test.loc[sample_test['tweet'].str.len() > 10]\n",
    "#sample_test = sample_test.drop(sample_test[sample_test['tweet'].str.len() > 10].index)\n",
    "print(sample_test.shape)\n",
    "tweets_test = sample_test['tweet'].tolist()\n",
    "\n",
    "all_tweets = tweets + tweets_test\n",
    "with open('all_tweets.txt', 'w', encoding='utf-8') as file:\n",
    "        file.write('\\n'.join(all_tweets))"
   ]
  },
  {
   "cell_type": "code",
   "execution_count": null,
   "metadata": {},
   "outputs": [],
   "source": []
  },
  {
   "cell_type": "code",
   "execution_count": null,
   "metadata": {},
   "outputs": [],
   "source": []
  },
  {
   "cell_type": "code",
   "execution_count": null,
   "metadata": {},
   "outputs": [],
   "source": []
  },
  {
   "cell_type": "code",
   "execution_count": 188,
   "metadata": {},
   "outputs": [],
   "source": [
    "sample=pd.read_csv('data/joy_train.csv',header=None, names=['index', 'tweet','emotion','score'])\n",
    "y1 = sample['score'].tolist()\n",
    "\n",
    "sample_test=pd.read_csv('data/joy_test.csv',header=None, names=['index', 'tweet','emotion','score'])\n",
    "y2 = sample_test['score'].tolist()\n",
    "\n",
    "y = y1 + y2"
   ]
  },
  {
   "cell_type": "code",
   "execution_count": 189,
   "metadata": {},
   "outputs": [
    {
     "name": "stdout",
     "output_type": "stream",
     "text": [
      "[ 13  26 141 191 318 529]\n",
      "(794, 2)\n"
     ]
    }
   ],
   "source": [
    "all_tweets = []\n",
    "with open('resources/output_bw.txt', 'r', encoding='utf-8') as file:\n",
    "    all_tweets = [line.strip() for line in file.readlines()]\n",
    "\n",
    "df = pd.DataFrame()\n",
    "df['tweet'] = all_tweets\n",
    "df['score'] = y\n",
    "indexes_to_drop = df.loc[df['tweet'].str.len() <= 10].index.values\n",
    "print(indexes_to_drop)\n",
    "df=df.loc[df['tweet'].str.len() > 10]\n",
    "print(df.shape)\n",
    "\n",
    "X = df['tweet'].tolist()\n",
    "y = df['score'].tolist()\n",
    "\n",
    "arsel = pd.read_csv('resources/ArSEL.txt', header=0, delimiter=';')\n",
    "arsel_bw = {bw: score for (bw,score) in zip(arsel['SAMA_Lemma'].tolist(),arsel['HAPPY'].tolist())}"
   ]
  },
  {
   "cell_type": "code",
   "execution_count": 190,
   "metadata": {},
   "outputs": [
    {
     "name": "stdout",
     "output_type": "stream",
     "text": [
      "794\n"
     ]
    }
   ],
   "source": [
    "arsel_scores = []\n",
    "for tweet in X:\n",
    "    scores = []\n",
    "    for word in tweet.split():\n",
    "        if word in arsel_bw: scores.append(arsel_bw[word])\n",
    "    arsel_scores.append(scores)\n",
    "    #feature_arsel_score_avg.append(sum/len(tweet.split()) if len(tweet.split()) != 0 else 0)\n",
    "feature_arsel_score_avg = [float(np.mean(tweet_score)) if len(tweet_score)>0 else 0 for tweet_score in arsel_scores]\n",
    "feature_arsel_score_std = [float(np.std(tweet_score)) if len(tweet_score)>0 else 0 for tweet_score in arsel_scores]\n",
    "feature_arsel_score_max = [float(np.max(tweet_score)) if len(tweet_score)>0 else 0 for tweet_score in arsel_scores]\n",
    "print(len(feature_arsel_score_avg))"
   ]
  },
  {
   "cell_type": "code",
   "execution_count": 202,
   "metadata": {},
   "outputs": [
    {
     "name": "stdout",
     "output_type": "stream",
     "text": [
      "#nouns:  5116\n",
      "#verbs:  1652\n",
      "#adjs:  627\n"
     ]
    }
   ],
   "source": [
    "all_tweets_pos = []\n",
    "with open('resources/output_bw_pos.txt', 'r', encoding='utf-8') as file:\n",
    "    all_tweets_pos = [line.strip() for line in file.readlines()]\n",
    "\n",
    "#remove drop items\n",
    "for i in indexes_to_drop:\n",
    "    del all_tweets_pos[i]\n",
    "\n",
    "pos_dict = {'noun':[], 'verb':[],'adj':[]}\n",
    "for line in all_tweets_pos:\n",
    "    for word in line.split(' '):\n",
    "        w, pos = word.split('=>')[0], word.split('=>')[-1]\n",
    "        if pos == 'noun': pos_dict['noun'].append(w)\n",
    "        if pos == 'verb': pos_dict['verb'].append(w)\n",
    "        if pos == 'adj': pos_dict['adj'].append(w)\n",
    "print('#nouns: ', len(pos_dict['noun']))\n",
    "print('#verbs: ', len(pos_dict['verb']))\n",
    "print('#adjs: ', len(pos_dict['adj']))"
   ]
  },
  {
   "cell_type": "code",
   "execution_count": 209,
   "metadata": {},
   "outputs": [],
   "source": [
    "all_noun_scores, all_verb_scores, all_adj_scores = [], [], []\n",
    "for tweet in all_tweets_pos:\n",
    "    noun_scores, verb_scores, adj_scores = [], [], []\n",
    "    for word in tweet.split():\n",
    "        w = word.split('=>')[0]\n",
    "        if w in arsel_bw:\n",
    "            if w in pos_dict['noun']: noun_scores.append(arsel_bw[w])\n",
    "            if w in pos_dict['verb']: verb_scores.append(arsel_bw[w])\n",
    "            if w in pos_dict['adj']: adj_scores.append(arsel_bw[w])\n",
    "    all_noun_scores.append(noun_scores)\n",
    "    all_verb_scores.append(verb_scores)\n",
    "    all_adj_scores.append(adj_scores)\n",
    "feature_arsel_score_noun = [float(np.mean(noun_scores)) if len(noun_scores)>0 else 0 for noun_scores in all_noun_scores]\n",
    "feature_arsel_score_verb = [float(np.mean(verb_scores)) if len(verb_scores)>0 else 0 for verb_scores in all_verb_scores]\n",
    "feature_arsel_score_adj = [float(np.mean(adj_scores)) if len(adj_scores)>0 else 0 for adj_scores in all_adj_scores]"
   ]
  },
  {
   "cell_type": "code",
   "execution_count": 117,
   "metadata": {},
   "outputs": [
    {
     "name": "stdout",
     "output_type": "stream",
     "text": [
      "[2, 0, 5, 0, 0, 0, 2, 0, 0, 0, 0, 1, 2, 1, 4, 1, 0, 0, 0, 0, 0, 1]\n"
     ]
    }
   ],
   "source": [
    "#happy emojies\n",
    "# https://www.insight-centre.org/sites/default/files/publications/ianwood-emotionworkshop.pdf\n",
    "\n",
    "prep = Arabic_preprocessing()\n",
    "sample=pd.read_csv('data/joy_train.csv',header=None, names=['index', 'tweet','emotion','score'])\n",
    "sample['tweet'] = sample['tweet'].apply(lambda x : prep.preprocess_arabic_text(x, stem=False, replace_emojis=False, normalize_arabic=False))\n",
    "tweets = sample['tweet'].tolist()\n",
    "sample_test=pd.read_csv('data/joy_test.csv',header=None, names=['index', 'tweet','emotion','score'])\n",
    "sample_test['tweet'] = sample_test['tweet'].apply(lambda x : prep.preprocess_arabic_text(x, stem=False, replace_emojis=False, normalize_arabic=False))\n",
    "tweets_test = sample_test['tweet'].tolist()\n",
    "\n",
    "all_tweets = tweets + tweets_test\n",
    "\n",
    "joy_emojies = ['\\U0001F600','\\U0001F602','\\U0001F603','\\U0001F604','\\U0001F606','\\U0001F607','\\U0001F609','\\U0001F60A','\\U0001F60B','\\U0001F60C','\\U0001F60D','\\U0001F60E','\\U0001F60F','\\U0001F31E','\\U0000263A','\\U0001F618','\\U0001F61C','\\U0001F61D','\\U0001F61B','\\U0001F63A','\\U0001F638','\\U0001F639','\\U0001F63B','\\U0001F63C','\\U00002764','\\U0001F496','\\U0001F495','\\U0001F601','\\U00002665']\n",
    "feature_joy_emojies = []\n",
    "for tweet in all_tweets:\n",
    "    count = 0\n",
    "    for word in tweet.split():\n",
    "        if word in joy_emojies: count += 1\n",
    "    feature_joy_emojies.append(count)\n",
    "print(feature_joy_emojies[:22])"
   ]
  },
  {
   "cell_type": "code",
   "execution_count": 210,
   "metadata": {},
   "outputs": [
    {
     "name": "stdout",
     "output_type": "stream",
     "text": [
      "(794, 6)\n"
     ]
    }
   ],
   "source": [
    "X = np.zeros((794,6))\n",
    "X[:,0] = feature_arsel_score_avg\n",
    "X[:,1] = feature_arsel_score_max\n",
    "X[:,2] = feature_arsel_score_std\n",
    "X[:,3] = feature_arsel_score_noun\n",
    "X[:,4] = feature_arsel_score_verb\n",
    "X[:,5] = feature_arsel_score_adj\n",
    "#X[:,3] = feature_joy_emojies\n",
    "print(X.shape)\n",
    "X_train, X_test = X[:600,:], X[600:,:]\n",
    "\n",
    "#y = sample['score'].tolist() + sample_test['score'].tolist()\n",
    "y_train, y_test = y[:600], y[600:]"
   ]
  },
  {
   "cell_type": "code",
   "execution_count": 211,
   "metadata": {},
   "outputs": [
    {
     "name": "stdout",
     "output_type": "stream",
     "text": [
      "0\n",
      "[[ 0.14965305  0.19949312  0.03075276  0.14965305  0.17750023  0.16650379]\n",
      " [ 0.14853095  0.22253058  0.04509771  0.15507508  0.          0.12889857]\n",
      " [ 0.11190085  0.12354512  0.01164426  0.11190085  0.          0.        ]\n",
      " [ 0.16468161  0.19956698  0.03427047  0.14723893  0.          0.19956698]\n",
      " [ 0.14239969  0.17642479  0.02185232  0.13478484  0.17642479  0.16143681]]\n"
     ]
    }
   ],
   "source": [
    "df = pd.DataFrame(X)\n",
    "print(df.isna().sum().sum())\n",
    "\n",
    "print(X_train[:5,:])"
   ]
  },
  {
   "cell_type": "code",
   "execution_count": 213,
   "metadata": {},
   "outputs": [
    {
     "name": "stdout",
     "output_type": "stream",
     "text": [
      "0.1 -0.00324127625113\n",
      "0.3 -0.00655329858866\n",
      "0.5 -0.00797276265571\n",
      "0.75 -0.00887400716181\n",
      "1 -0.00939798462402\n",
      "2 -0.0104324493076\n",
      "3 -0.0110021687364\n",
      "4 -0.0114222756106\n",
      "5 -0.0117595791394\n",
      "8 -0.0124872883373\n",
      "10 -0.012828327841\n",
      "15 -0.0134117595277\n",
      "20 -0.0137813708168\n",
      "25 -0.0140366755181\n",
      "30 -0.014223619723\n",
      "35 -0.0143664196813\n",
      "40 -0.0144790593075\n",
      "45 -0.0145701799801\n",
      "50 -0.0146454097978\n",
      "60 -0.0147623535872\n"
     ]
    },
    {
     "data": {
      "image/png": "[encoded data removed]",
      "text/plain": [
       "<matplotlib.figure.Figure at 0x1d4c8a11da0>"
      ]
     },
     "metadata": {},
     "output_type": "display_data"
    },
    {
     "name": "stdout",
     "output_type": "stream",
     "text": [
      "maximum R^2:  0\n",
      "Best alpha:  0\n",
      "Pearson score = 0.114210961994\n"
     ]
    }
   ],
   "source": [
    "from sklearn import linear_model\n",
    "import matplotlib.pyplot as plt\n",
    "from scipy.stats import pearsonr\n",
    "\n",
    "alphas = [0.1,0.3,0.5,0.75,1,2,3,4,5,8,10,15,20,25,30,35,40,45,50,60]\n",
    "r2 = []\n",
    "max_r2, best_alpha = 0, 0\n",
    "for alpha in alphas:\n",
    "    model = linear_model.Ridge(alpha=alpha, random_state=132)\n",
    "    model.fit(X_train, y_train) # Train the model using the training sets\n",
    "    r = model.score(X_test, np.array(y_test))\n",
    "    print(alpha, r)\n",
    "    if r > max_r2: max_r2, best_alpha = r, alpha\n",
    "    r2.append(r)\n",
    "\n",
    "plt.plot(alphas,r2)\n",
    "plt.xlabel('alphas')\n",
    "plt.ylabel('R^2')\n",
    "plt.title('Ridge')\n",
    "plt.show()\n",
    "\n",
    "print('maximum R^2: ', max_r2)\n",
    "print('Best alpha: ', best_alpha)\n",
    "\n",
    "model = linear_model.Ridge(alpha=best_alpha, random_state=132)\n",
    "model.fit(X_train, y_train) # Train the model using the training sets\n",
    "y_pred = model.predict(X_test) # Make predictions using the testing set\n",
    "pearson = pearsonr(y_test, y_pred)\n",
    "print('Pearson score = ' + str(pearson[0]))"
   ]
  },
  {
   "cell_type": "code",
   "execution_count": 86,
   "metadata": {},
   "outputs": [
    {
     "data": {
      "text/plain": [
       "0.016924411922472182"
      ]
     },
     "execution_count": 86,
     "metadata": {},
     "output_type": "execute_result"
    }
   ],
   "source": [
    "from sklearn.ensemble import RandomForestRegressor\n",
    "\n",
    "model = RandomForestRegressor(n_estimators=1000, max_depth=3, random_state=42)\n",
    "model.fit(X_train, y_train) # Train the model using the training sets\n",
    "model.score(X_test, y_test)"
   ]
  },
  {
   "cell_type": "code",
   "execution_count": null,
   "metadata": {},
   "outputs": [],
   "source": []
  },
  {
   "cell_type": "code",
   "execution_count": null,
   "metadata": {},
   "outputs": [],
   "source": []
  },
  {
   "cell_type": "markdown",
   "metadata": {},
   "source": [
    "### Autoencoders"
   ]
  },
  {
   "cell_type": "code",
   "execution_count": 14,
   "metadata": {},
   "outputs": [
    {
     "name": "stdout",
     "output_type": "stream",
     "text": [
      "training data:  (728, 300) (728,)\n",
      "test data:  (224, 300) (224,)\n"
     ]
    }
   ],
   "source": [
    "%matplotlib inline\n",
    "import gensim\n",
    "import pandas as pd\n",
    "import numpy as np\n",
    "import re\n",
    "from resources.arabic_preprocessing import Arabic_preprocessing\n",
    "import matplotlib.pyplot as plt\n",
    "from keras.models import Model\n",
    "from keras.layers import Input, Dense\n",
    "\n",
    "seed = 222\n",
    "np.random.seed(seed)\n",
    "    \n",
    "def featurize(words_embeddings, sentence):\n",
    "    \"\"\"average words' vectors\"\"\"\n",
    "    feature_vec = np.zeros((300,), dtype=\"float32\")\n",
    "    words = sentence.split(' ')\n",
    "    retrieved_words = 0\n",
    "    for token in words:\n",
    "        try:\n",
    "            feature_vec = np.add(feature_vec, words_embeddings.wv[token])\n",
    "            retrieved_words += 1\n",
    "        except KeyError:\n",
    "            pass  # if a word is not in the embeddings' vocabulary discard it\n",
    "    np.seterr(divide='ignore', invalid='ignore')\n",
    "    feature_vec = np.divide(feature_vec, retrieved_words)\n",
    "    return feature_vec\n",
    "\n",
    "def read_dataset_preprocess_featurize(csv_path, preprocess_object, words_embeddings, words_embeddings_size):\n",
    "    sample=pd.read_csv(csv_path, delimiter='\\t', skiprows=1, header=None, names=['index', 'tweet','emotion','score'])\n",
    "    sample['tweet'] = sample['tweet'].apply(lambda x : preprocess_object.preprocess_arabic_text(x, stem=False, replace_emojis=True, normalize_arabic=True))\n",
    "    sample = sample.dropna()\n",
    "    tweets = sample['tweet'].tolist()\n",
    "    scores = sample['score'].values\n",
    "    tweets_number = len(tweets)\n",
    "    tweets_embeddings = np.zeros((tweets_number,words_embeddings_size))\n",
    "    for i,tweet in enumerate(tweets):\n",
    "        tweets_embeddings[i,:] = featurize(words_embeddings, tweet)\n",
    "    return tweets_embeddings, scores\n",
    "\n",
    "prep = Arabic_preprocessing()\n",
    "tweeter_embeddings = gensim.models.Word2Vec.load('resources\\\\Twt-SG') # load tweeter word embeddings\n",
    "\n",
    "# prepare train data\n",
    "X_train, y_train = read_dataset_preprocess_featurize('data/2018-EI-reg-Ar-joy-train.txt', prep, tweeter_embeddings, 300)\n",
    "print('training data: ', X_train.shape, y_train.shape)\n",
    "# prepare test data\n",
    "X_test, y_test = read_dataset_preprocess_featurize('data/2018-EI-reg-Ar-joy-dev.txt', prep, tweeter_embeddings, 300)\n",
    "print('test data: ', X_test.shape, y_test.shape)"
   ]
  },
  {
   "cell_type": "code",
   "execution_count": 39,
   "metadata": {},
   "outputs": [
    {
     "name": "stdout",
     "output_type": "stream",
     "text": [
      "[]\n",
      "<class 'pandas.core.frame.DataFrame'>\n",
      "Int64Index: 799 entries, 0 to 799\n",
      "Columns: 301 entries, 0 to score\n",
      "dtypes: float64(301)\n",
      "memory usage: 1.8 MB\n",
      "None\n",
      "<class 'numpy.ndarray'> <class 'numpy.ndarray'>\n",
      "(799, 300) (799,)\n",
      "(600, 300) (199, 300)\n",
      "600 199\n",
      "<class 'numpy.ndarray'> <class 'numpy.ndarray'>\n"
     ]
    }
   ],
   "source": [
    "# drop rows with all zeros\n",
    "indexes_to_drop = []\n",
    "for i in range(X.shape[0]):\n",
    "    s = np.sum(X[i,:])\n",
    "    if s == 0:\n",
    "        indexes_to_drop.append(i)\n",
    "print(indexes_to_drop)\n",
    "\n",
    "df = pd.DataFrame(X)\n",
    "#df['embeddings'] = X\n",
    "df['score'] = y\n",
    "df = df.drop(indexes_to_drop)\n",
    "df = df.dropna()\n",
    "print(df.info())\n",
    "\n",
    "X_new = np.array(df.iloc[:,:300].values)\n",
    "y_new = np.array(df['score'].tolist())\n",
    "print(type(X_new), type(y_new))\n",
    "print(X_new.shape, y_new.shape)\n",
    "\n",
    "# Normalizing data (MaxMin)\n",
    "from sklearn.preprocessing import MinMaxScaler\n",
    "scaler = MinMaxScaler()\n",
    "X_new = scaler.fit_transform(X_new)\n",
    "X_train, X_test = X_new[:600,:], X_new[600:,:]\n",
    "y_train, y_test = y_new[:600], y_new[600:]\n",
    "\n",
    "print(X_train.shape, X_test.shape)\n",
    "print(len(y_train), len(y_test))\n",
    "print(type(y_train), type(y_test))"
   ]
  },
  {
   "cell_type": "code",
   "execution_count": 17,
   "metadata": {},
   "outputs": [
    {
     "name": "stdout",
     "output_type": "stream",
     "text": [
      "(728, 300) (224, 300)\n"
     ]
    }
   ],
   "source": [
    "from sklearn.preprocessing import MinMaxScaler\n",
    "scaler = MinMaxScaler()\n",
    "scaler.fit(np.append(X_train, X_test, axis=0))\n",
    "X_train = scaler.transform(X_train)\n",
    "X_test = scaler.transform(X_test)\n",
    "print(X_train.shape, X_test.shape)"
   ]
  },
  {
   "cell_type": "markdown",
   "metadata": {},
   "source": [
    "#### prepare autoencoder model"
   ]
  },
  {
   "cell_type": "code",
   "execution_count": 208,
   "metadata": {},
   "outputs": [],
   "source": [
    "from keras import initializers\n",
    "\n",
    "input_size = 300\n",
    "hidden_1_size = 200\n",
    "#hidden_2_size = 100\n",
    "code_size = 50\n",
    "init_weights = initializers.Constant(value=0.001)\n",
    "init_bais = initializers.Zeros()\n",
    "\n",
    "input_layer = Input(shape=(input_size,))\n",
    "encoder_hidden_layer_1 = Dense(hidden_1_size, activation='relu', kernel_initializer=init_weights, bias_initializer=init_bais)(input_layer)\n",
    "#encoder_hidden_layer_2 = Dense(hidden_2_size, activation='relu')(encoder_hidden_layer_1)\n",
    "code_layer = Dense(code_size, activation='relu', kernel_initializer=init_weights, bias_initializer=init_bais)(encoder_hidden_layer_1)\n",
    "#decoder_hidden_layer_1 = Dense(hidden_2_size, activation='relu')(code_layer)\n",
    "decoder_hidden_layer_1 = Dense(hidden_1_size, activation='relu', kernel_initializer=init_weights, bias_initializer=init_bais)(code_layer)\n",
    "output_layer = Dense(input_size, activation='sigmoid', kernel_initializer=init_weights, bias_initializer=init_bais)(decoder_hidden_layer_1)\n",
    "\n",
    "autoencoder = Model(input_layer, output_layer)\n",
    "\n",
    "# create a separate encoder model\n",
    "encoder = Model(input_layer, code_layer)\n",
    "\n",
    "# retrieve the last layer of the autoencoder model \n",
    "#decoder_layer1 = autoencoder.layers[-3]\n",
    "decoder_layer1 = autoencoder.layers[-2]\n",
    "decoder_layer2 = autoencoder.layers[-1]\n",
    "\n",
    "# create the decoder model\n",
    "encoded_input_layer = Input(shape=(code_size,))\n",
    "#decoder = Model(encoded_input_layer, decoder_layer3(decoder_layer2(decoder_layer1(encoded_input_layer))))\n",
    "decoder = Model(encoded_input_layer, decoder_layer2(decoder_layer1(encoded_input_layer)))"
   ]
  },
  {
   "cell_type": "markdown",
   "metadata": {},
   "source": [
    "#### train the autoencoder"
   ]
  },
  {
   "cell_type": "code",
   "execution_count": 209,
   "metadata": {},
   "outputs": [
    {
     "name": "stdout",
     "output_type": "stream",
     "text": [
      "Epoch 1/50\n",
      "728/728 [==============================] - 1s - loss: 0.0177     \n",
      "Epoch 2/50\n",
      "728/728 [==============================] - 0s - loss: 0.0168     \n",
      "Epoch 3/50\n",
      "728/728 [==============================] - 0s - loss: 0.0167     \n",
      "Epoch 4/50\n",
      "728/728 [==============================] - 0s - loss: 0.0166     \n",
      "Epoch 5/50\n",
      "728/728 [==============================] - 0s - loss: 0.0166     \n",
      "Epoch 6/50\n",
      "728/728 [==============================] - 0s - loss: 0.0165     \n",
      "Epoch 7/50\n",
      "728/728 [==============================] - 0s - loss: 0.0165     \n",
      "Epoch 8/50\n",
      "728/728 [==============================] - 0s - loss: 0.0165     \n",
      "Epoch 9/50\n",
      "728/728 [==============================] - 0s - loss: 0.0164     \n",
      "Epoch 10/50\n",
      "728/728 [==============================] - 0s - loss: 0.0164     \n",
      "Epoch 11/50\n",
      "728/728 [==============================] - 0s - loss: 0.0163     \n",
      "Epoch 12/50\n",
      "728/728 [==============================] - 0s - loss: 0.0163     \n",
      "Epoch 13/50\n",
      "728/728 [==============================] - 0s - loss: 0.0162     \n",
      "Epoch 14/50\n",
      "728/728 [==============================] - 0s - loss: 0.0162     \n",
      "Epoch 15/50\n",
      "728/728 [==============================] - 0s - loss: 0.0161     \n",
      "Epoch 16/50\n",
      "728/728 [==============================] - 0s - loss: 0.0161     \n",
      "Epoch 17/50\n",
      "728/728 [==============================] - 0s - loss: 0.0160     \n",
      "Epoch 18/50\n",
      "728/728 [==============================] - 0s - loss: 0.0159     \n",
      "Epoch 19/50\n",
      "728/728 [==============================] - 0s - loss: 0.0159     \n",
      "Epoch 20/50\n",
      "728/728 [==============================] - 0s - loss: 0.0159     \n",
      "Epoch 21/50\n",
      "728/728 [==============================] - 0s - loss: 0.0158     \n",
      "Epoch 22/50\n",
      "728/728 [==============================] - 0s - loss: 0.0158     \n",
      "Epoch 23/50\n",
      "728/728 [==============================] - 0s - loss: 0.0158     \n",
      "Epoch 24/50\n",
      "728/728 [==============================] - 0s - loss: 0.0157     \n",
      "Epoch 25/50\n",
      "728/728 [==============================] - 0s - loss: 0.0157     \n",
      "Epoch 26/50\n",
      "728/728 [==============================] - 0s - loss: 0.0157     \n",
      "Epoch 27/50\n",
      "728/728 [==============================] - 0s - loss: 0.0157     \n",
      "Epoch 28/50\n",
      "728/728 [==============================] - 0s - loss: 0.0156     \n",
      "Epoch 29/50\n",
      "728/728 [==============================] - 0s - loss: 0.0156     \n",
      "Epoch 30/50\n",
      "728/728 [==============================] - 0s - loss: 0.0156     \n",
      "Epoch 31/50\n",
      "728/728 [==============================] - 0s - loss: 0.0156     \n",
      "Epoch 32/50\n",
      "728/728 [==============================] - 0s - loss: 0.0156     \n",
      "Epoch 33/50\n",
      "728/728 [==============================] - 0s - loss: 0.0156     \n",
      "Epoch 34/50\n",
      "728/728 [==============================] - 0s - loss: 0.0156     \n",
      "Epoch 35/50\n",
      "728/728 [==============================] - 0s - loss: 0.0156     \n",
      "Epoch 36/50\n",
      "728/728 [==============================] - 0s - loss: 0.0156     \n",
      "Epoch 37/50\n",
      "728/728 [==============================] - 0s - loss: 0.0155     \n",
      "Epoch 38/50\n",
      "728/728 [==============================] - 0s - loss: 0.0155     \n",
      "Epoch 39/50\n",
      "728/728 [==============================] - 0s - loss: 0.0155     \n",
      "Epoch 40/50\n",
      "728/728 [==============================] - 0s - loss: 0.0155     \n",
      "Epoch 41/50\n",
      "728/728 [==============================] - 0s - loss: 0.0155     \n",
      "Epoch 42/50\n",
      "728/728 [==============================] - 0s - loss: 0.0155     \n",
      "Epoch 43/50\n",
      "728/728 [==============================] - 0s - loss: 0.0156     \n",
      "Epoch 44/50\n",
      "728/728 [==============================] - 0s - loss: 0.0155     \n",
      "Epoch 45/50\n",
      "728/728 [==============================] - 0s - loss: 0.0155     \n",
      "Epoch 46/50\n",
      "728/728 [==============================] - 0s - loss: 0.0155     \n",
      "Epoch 47/50\n",
      "728/728 [==============================] - 0s - loss: 0.0155     \n",
      "Epoch 48/50\n",
      "728/728 [==============================] - 0s - loss: 0.0155     \n",
      "Epoch 49/50\n",
      "728/728 [==============================] - 0s - loss: 0.0155     \n",
      "Epoch 50/50\n",
      "728/728 [==============================] - 0s - loss: 0.0155     \n"
     ]
    },
    {
     "data": {
      "text/plain": [
       "<keras.callbacks.History at 0x27dca8828d0>"
      ]
     },
     "execution_count": 209,
     "metadata": {},
     "output_type": "execute_result"
    }
   ],
   "source": [
    "#autoencoder = Model(input_layer, output_layer)\n",
    "autoencoder.compile(optimizer=\"adam\", loss='mse')\n",
    "autoencoder.fit(X_train, X_train, epochs=50, batch_size=16) # , validation_data=[X_test, X_test]"
   ]
  },
  {
   "cell_type": "code",
   "execution_count": 217,
   "metadata": {},
   "outputs": [
    {
     "name": "stdout",
     "output_type": "stream",
     "text": [
      "(1, 300) (1, 300)\n",
      "39.3793481106\n",
      "[ 0.49723702  0.33408686  0.75834309  0.31992505  0.15673994  0.09368528]\n",
      "[ 0.42682332  0.45328617  0.53294772  0.42051524  0.39021105  0.47657228]\n",
      "\n",
      "(1, 300) (1, 300)\n",
      "29.4956617254\n",
      "[ 0.51376499  0.52472909  0.63495132  0.43180492  0.25329582  0.37082469]\n",
      "[ 0.4783676   0.40529844  0.52703923  0.50286949  0.43589267  0.49917406]\n",
      "(224, 300) (224,)\n",
      "608/728 [========================>.....] - ETA: 0s0.0154880270526\n"
     ]
    }
   ],
   "source": [
    "x = X_train[0].reshape((1,300))\n",
    "pred = autoencoder.predict(X_train[0].reshape((1,300)))\n",
    "diff = np.sum(np.absolute(np.subtract(x, pred)))\n",
    "print(x.shape, pred.shape)\n",
    "print(np.sum(diff))\n",
    "print(x[0,:6])\n",
    "print(pred[0,:6])\n",
    "print()\n",
    "x = X_test[0].reshape((1,300))\n",
    "pred = autoencoder.predict(x)\n",
    "diff = np.sum(np.absolute(np.subtract(x, pred)))\n",
    "print(x.shape, pred.shape)\n",
    "print(np.sum(diff))\n",
    "print(x[0,:6])\n",
    "print(pred[0,:6])\n",
    "\n",
    "print(X_test.shape, y_test.shape)\n",
    "print(autoencoder.evaluate(X_train, X_train))"
   ]
  },
  {
   "cell_type": "markdown",
   "metadata": {},
   "source": [
    "#### extend training data: input training data to autoencoder, and append its output to training data"
   ]
  },
  {
   "cell_type": "code",
   "execution_count": 211,
   "metadata": {},
   "outputs": [],
   "source": [
    "pred = autoencoder.predict(X_train)\n",
    "pred2 = autoencoder.predict(pred)\n",
    "pred3 = autoencoder.predict(pred2)\n",
    "#print(pred.shape)"
   ]
  },
  {
   "cell_type": "code",
   "execution_count": 212,
   "metadata": {},
   "outputs": [],
   "source": [
    "X_extended = np.append(X_train, pred, axis=0)\n",
    "X_extended1 = np.append(X_extended, pred2, axis=0)\n",
    "X_extended2 = np.append(X_extended1, pred3, axis=0)\n",
    "y_extended = np.append(y_train, y_train, axis=0)\n",
    "y_extended1 = np.append(y_extended, y_train, axis=0)\n",
    "y_extended2 = np.append(y_extended1, y_train, axis=0)\n",
    "# print(X_extended.shape)\n",
    "# print(y_extended.shape)"
   ]
  },
  {
   "cell_type": "markdown",
   "metadata": {},
   "source": [
    "#### train models on original training data and extended training data"
   ]
  },
  {
   "cell_type": "code",
   "execution_count": 213,
   "metadata": {},
   "outputs": [
    {
     "name": "stdout",
     "output_type": "stream",
     "text": [
      "Pearson score =  0.585259933443\n",
      "Pearson score for extented =  0.583132860263\n",
      "Pearson score for extented1 =  0.582243111709\n",
      "Pearson score for extented2 =  0.581706993598\n"
     ]
    }
   ],
   "source": [
    "from sklearn import linear_model\n",
    "import matplotlib.pyplot as plt\n",
    "from scipy.stats import pearsonr\n",
    "\n",
    "def ridge(X_train, y_train, X_test, y_test):\n",
    "    alphas = [0.1,0.3,0.5,0.75,1,2,3,4,5,8,10,15,20,25,30,35,40,45,50,60]\n",
    "    r2 = []\n",
    "    max_r2, best_alpha = 0, 0\n",
    "    for alpha in alphas:\n",
    "        model = linear_model.Ridge(alpha=alpha, random_state=seed)\n",
    "        model.fit(X_train, y_train) # Train the model using the training sets\n",
    "        r = model.score(X_test, y_test)\n",
    "        if r > max_r2: max_r2, best_alpha = r, alpha\n",
    "        r2.append(r)\n",
    "    best_ridge_model = linear_model.Ridge(alpha=best_alpha, random_state=seed)\n",
    "    best_ridge_model.fit(X_train, y_train) # Train the model using the training sets\n",
    "    y_pred = best_ridge_model.predict(X_test) # Make predictions using the testing set\n",
    "    pearson = pearsonr(y_test, y_pred)\n",
    "    return best_ridge_model, pearson[0]\n",
    "\n",
    "# plt.plot(alphas,r2)\n",
    "# plt.xlabel('alphas')\n",
    "# plt.ylabel('R^2')\n",
    "# plt.title('Ridge')\n",
    "# plt.show()\n",
    "\n",
    "# print('maximum R^2: ', max_r2)\n",
    "# print('Best alpha: ', best_alpha)\n",
    "\n",
    "# best_ridge_model = linear_model.Ridge(alpha=best_alpha, random_state=seed)\n",
    "# best_ridge_model.fit(X_extended, y_extended) # Train the model using the training sets\n",
    "# #best_ridge_model.fit(X_train, y_train) # Train the model using the training sets\n",
    "# y_pred = best_ridge_model.predict(X_test) # Make predictions using the testing set\n",
    "# pearson = pearsonr(y_test, y_pred)\n",
    "\n",
    "ridge_model, pearson = ridge(X_train, y_train, X_test, y_test)\n",
    "print('Pearson score = ', pearson)\n",
    "ridge_model_extended, pearson = ridge(X_extended, y_extended, X_test, y_test)\n",
    "print('Pearson score for extented = ', pearson)\n",
    "ridge_model_extended_1, pearson = ridge(X_extended1, y_extended1, X_test, y_test)\n",
    "print('Pearson score for extented1 = ', pearson)\n",
    "ridge_model_extended_2, pearson = ridge(X_extended2, y_extended2, X_test, y_test)\n",
    "print('Pearson score for extented2 = ', pearson)"
   ]
  },
  {
   "cell_type": "code",
   "execution_count": 160,
   "metadata": {},
   "outputs": [
    {
     "name": "stdout",
     "output_type": "stream",
     "text": [
      "Pearson score =  0.602169061256\n",
      "Pearson score for extented =  0.600833989339\n",
      "Pearson score for extented1 =  0.601245538093\n",
      "Pearson score for extented2 =  0.603199651256\n"
     ]
    }
   ],
   "source": [
    "from sklearn.svm import SVR\n",
    "\n",
    "def svr(X_train, y_train, X_test, y_test):\n",
    "    Cs = [0.1,0.3,0.5,0.75,1,2,3,4,5,8,10,15,20,25,30,35,40,45,50,60]\n",
    "    r2 = []\n",
    "    max_r2, best_C = 0, 0\n",
    "    for c in Cs:\n",
    "        model = SVR(C=c)\n",
    "        model.fit(X_train, y_train) # Train the model using the training sets\n",
    "        r = model.score(X_test, y_test)\n",
    "        if r > max_r2: max_r2, best_C = r, c\n",
    "        r2.append(r)\n",
    "    best_svr_model = SVR(C=best_C)\n",
    "    best_svr_model.fit(X_train, y_train) # Train the model using the training sets\n",
    "    y_pred = best_svr_model.predict(X_test) # Make predictions using the testing set\n",
    "    pearson = pearsonr(y_test, y_pred)\n",
    "    return best_svr_model, pearson[0]\n",
    "\n",
    "# plt.plot(Cs,r2)\n",
    "# plt.xlabel('C')\n",
    "# plt.ylabel('R^2')\n",
    "# plt.title('SVR')\n",
    "# plt.show()\n",
    "\n",
    "# print('maximum R^2: ', max_r2)\n",
    "# print('Best C: ', best_C)\n",
    "\n",
    "# best_svr_model = SVR(C=best_C)\n",
    "# best_svr_model.fit(X_extended, y_extended) # Train the model using the training sets\n",
    "# y_pred = best_svr_model.predict(X_test) # Make predictions using the testing set\n",
    "# pearson = pearsonr(y_test, y_pred)\n",
    "# print('Pearson score = ' + str(pearson[0]))\n",
    "\n",
    "svr_model, pearson = svr(X_train, y_train, X_test, y_test)\n",
    "print('Pearson score = ', pearson)\n",
    "svr_model_extended, pearson = svr(X_extended, y_extended, X_test, y_test)\n",
    "print('Pearson score for extented = ', pearson)\n",
    "svr_model_extended_1, pearson = svr(X_extended1, y_extended1, X_test, y_test)\n",
    "print('Pearson score for extented1 = ', pearson)\n",
    "svr_model_extended_2, pearson = svr(X_extended2, y_extended2, X_test, y_test)\n",
    "print('Pearson score for extented2 = ', pearson)"
   ]
  },
  {
   "cell_type": "code",
   "execution_count": 123,
   "metadata": {},
   "outputs": [
    {
     "name": "stdout",
     "output_type": "stream",
     "text": [
      "Pearson score = 0.56713400609\n"
     ]
    }
   ],
   "source": [
    "from sklearn.ensemble import RandomForestRegressor\n",
    "\n",
    "best_random_forest_model = RandomForestRegressor(n_estimators=1000, max_depth=10, random_state=seed)\n",
    "best_random_forest_model.fit(X_extended2, y_extended2) # Train the model using the training sets\n",
    "y_pred = best_random_forest_model.predict(X_test) # Make predictions using the testing set\n",
    "pearson = pearsonr(y_test, y_pred)\n",
    "print('Pearson score = ' + str(pearson[0]))"
   ]
  },
  {
   "cell_type": "code",
   "execution_count": 124,
   "metadata": {},
   "outputs": [
    {
     "name": "stdout",
     "output_type": "stream",
     "text": [
      "R^2:  0.370381648086\n",
      "Pearson score = 0.611294870124\n"
     ]
    }
   ],
   "source": [
    "from sklearn.metrics import mean_squared_error, r2_score\n",
    "\n",
    "ensemble_models = [svr_model_extended_2, ridge_model_extended_2] # , best_random_forest_model\n",
    "avg_pred = np.zeros(X_test.shape[0])\n",
    "for model in ensemble_models:\n",
    "    pred = model.predict(X_test)\n",
    "    avg_pred = np.add(avg_pred, pred)\n",
    "avg_pred = avg_pred / len(ensemble_models)\n",
    "#ridge_pred = best_ridge_model.predict(X_test)\n",
    "#svr_pred = best_svr_model.predict(X_test)\n",
    "#random_forest_pred = best_random_forest_model.predict(X_test)\n",
    "#avg_pred = np.add(np.add(ridge_pred,svr_pred), random_forest_pred) / 3\n",
    "r2 = r2_score(y_test, avg_pred)\n",
    "print('R^2: ', r2)\n",
    "pearson = pearsonr(y_test, avg_pred)\n",
    "print('Pearson score = ' + str(pearson[0]))"
   ]
  },
  {
   "cell_type": "markdown",
   "metadata": {},
   "source": [
    "### 1. Train Autoencoder\n",
    "### 2. Use autoencoder's encoder part to:\n",
    "* train ML models on encoded data\n",
    "* evaluate on encoded test data"
   ]
  },
  {
   "cell_type": "code",
   "execution_count": 218,
   "metadata": {},
   "outputs": [
    {
     "name": "stdout",
     "output_type": "stream",
     "text": [
      "Train on 728 samples, validate on 224 samples\n",
      "Epoch 1/100\n",
      "728/728 [==============================] - 1s - loss: 0.0186 - val_loss: 0.0173\n",
      "Epoch 2/100\n",
      "728/728 [==============================] - 0s - loss: 0.0167 - val_loss: 0.0170\n",
      "Epoch 3/100\n",
      "728/728 [==============================] - 0s - loss: 0.0163 - val_loss: 0.0167\n",
      "Epoch 4/100\n",
      "728/728 [==============================] - 0s - loss: 0.0156 - val_loss: 0.0157\n",
      "Epoch 5/100\n",
      "728/728 [==============================] - 0s - loss: 0.0146 - val_loss: 0.0149\n",
      "Epoch 6/100\n",
      "728/728 [==============================] - 0s - loss: 0.0139 - val_loss: 0.0144\n",
      "Epoch 7/100\n",
      "728/728 [==============================] - 0s - loss: 0.0133 - val_loss: 0.0140\n",
      "Epoch 8/100\n",
      "728/728 [==============================] - 0s - loss: 0.0129 - val_loss: 0.0136\n",
      "Epoch 9/100\n",
      "728/728 [==============================] - 0s - loss: 0.0126 - val_loss: 0.0134\n",
      "Epoch 10/100\n",
      "728/728 [==============================] - 0s - loss: 0.0123 - val_loss: 0.0132\n",
      "Epoch 11/100\n",
      "728/728 [==============================] - 0s - loss: 0.0120 - val_loss: 0.0130\n",
      "Epoch 12/100\n",
      "728/728 [==============================] - 0s - loss: 0.0118 - val_loss: 0.0128\n",
      "Epoch 13/100\n",
      "728/728 [==============================] - 0s - loss: 0.0116 - val_loss: 0.0126\n",
      "Epoch 14/100\n",
      "728/728 [==============================] - 0s - loss: 0.0114 - val_loss: 0.0125\n",
      "Epoch 15/100\n",
      "728/728 [==============================] - 0s - loss: 0.0113 - val_loss: 0.0124\n",
      "Epoch 16/100\n",
      "728/728 [==============================] - 0s - loss: 0.0111 - val_loss: 0.0122\n",
      "Epoch 17/100\n",
      "728/728 [==============================] - 0s - loss: 0.0109 - val_loss: 0.0122\n",
      "Epoch 18/100\n",
      "728/728 [==============================] - 0s - loss: 0.0108 - val_loss: 0.0121\n",
      "Epoch 19/100\n",
      "728/728 [==============================] - 0s - loss: 0.0107 - val_loss: 0.0119\n",
      "Epoch 20/100\n",
      "728/728 [==============================] - 0s - loss: 0.0106 - val_loss: 0.0119\n",
      "Epoch 21/100\n",
      "728/728 [==============================] - ETA: 0s - loss: 0.010 - 0s - loss: 0.0104 - val_loss: 0.0118\n",
      "Epoch 22/100\n",
      "728/728 [==============================] - 0s - loss: 0.0103 - val_loss: 0.0117\n",
      "Epoch 23/100\n",
      "728/728 [==============================] - 0s - loss: 0.0102 - val_loss: 0.0116\n",
      "Epoch 24/100\n",
      "728/728 [==============================] - 0s - loss: 0.0101 - val_loss: 0.0115\n",
      "Epoch 25/100\n",
      "728/728 [==============================] - 0s - loss: 0.0100 - val_loss: 0.0114\n",
      "Epoch 26/100\n",
      "728/728 [==============================] - 0s - loss: 0.0099 - val_loss: 0.0114\n",
      "Epoch 27/100\n",
      "728/728 [==============================] - 0s - loss: 0.0098 - val_loss: 0.0113\n",
      "Epoch 28/100\n",
      "728/728 [==============================] - 0s - loss: 0.0097 - val_loss: 0.0113\n",
      "Epoch 29/100\n",
      "728/728 [==============================] - 0s - loss: 0.0096 - val_loss: 0.0112\n",
      "Epoch 30/100\n",
      "728/728 [==============================] - 0s - loss: 0.0096 - val_loss: 0.0111\n",
      "Epoch 31/100\n",
      "728/728 [==============================] - 0s - loss: 0.0095 - val_loss: 0.0111\n",
      "Epoch 32/100\n",
      "728/728 [==============================] - 0s - loss: 0.0094 - val_loss: 0.0110\n",
      "Epoch 33/100\n",
      "728/728 [==============================] - 0s - loss: 0.0094 - val_loss: 0.0111\n",
      "Epoch 34/100\n",
      "728/728 [==============================] - 0s - loss: 0.0093 - val_loss: 0.0110\n",
      "Epoch 35/100\n",
      "728/728 [==============================] - 0s - loss: 0.0092 - val_loss: 0.0110\n",
      "Epoch 36/100\n",
      "728/728 [==============================] - 0s - loss: 0.0091 - val_loss: 0.0109\n",
      "Epoch 37/100\n",
      "728/728 [==============================] - 0s - loss: 0.0091 - val_loss: 0.0109\n",
      "Epoch 38/100\n",
      "728/728 [==============================] - 0s - loss: 0.0090 - val_loss: 0.0109\n",
      "Epoch 39/100\n",
      "728/728 [==============================] - 0s - loss: 0.0090 - val_loss: 0.0108\n",
      "Epoch 40/100\n",
      "728/728 [==============================] - 0s - loss: 0.0089 - val_loss: 0.0107\n",
      "Epoch 41/100\n",
      "728/728 [==============================] - 0s - loss: 0.0088 - val_loss: 0.0107\n",
      "Epoch 42/100\n",
      "728/728 [==============================] - 0s - loss: 0.0088 - val_loss: 0.0107\n",
      "Epoch 43/100\n",
      "728/728 [==============================] - 0s - loss: 0.0087 - val_loss: 0.0107\n",
      "Epoch 44/100\n",
      "728/728 [==============================] - 0s - loss: 0.0087 - val_loss: 0.0106\n",
      "Epoch 45/100\n",
      "728/728 [==============================] - 0s - loss: 0.0086 - val_loss: 0.0106\n",
      "Epoch 46/100\n",
      "728/728 [==============================] - 0s - loss: 0.0085 - val_loss: 0.0106\n",
      "Epoch 47/100\n",
      "728/728 [==============================] - 0s - loss: 0.0085 - val_loss: 0.0105\n",
      "Epoch 48/100\n",
      "728/728 [==============================] - 0s - loss: 0.0084 - val_loss: 0.0106\n",
      "Epoch 49/100\n",
      "728/728 [==============================] - 0s - loss: 0.0084 - val_loss: 0.0105\n",
      "Epoch 50/100\n",
      "728/728 [==============================] - 0s - loss: 0.0084 - val_loss: 0.0105\n",
      "Epoch 51/100\n",
      "728/728 [==============================] - 0s - loss: 0.0083 - val_loss: 0.0105\n",
      "Epoch 52/100\n",
      "728/728 [==============================] - 0s - loss: 0.0082 - val_loss: 0.0104\n",
      "Epoch 53/100\n",
      "728/728 [==============================] - 0s - loss: 0.0082 - val_loss: 0.0104\n",
      "Epoch 54/100\n",
      "728/728 [==============================] - 0s - loss: 0.0082 - val_loss: 0.0105\n",
      "Epoch 55/100\n",
      "728/728 [==============================] - 0s - loss: 0.0081 - val_loss: 0.0104\n",
      "Epoch 56/100\n",
      "728/728 [==============================] - ETA: 0s - loss: 0.008 - 0s - loss: 0.0081 - val_loss: 0.0104\n",
      "Epoch 57/100\n",
      "728/728 [==============================] - 0s - loss: 0.0080 - val_loss: 0.0103\n",
      "Epoch 58/100\n",
      "728/728 [==============================] - 0s - loss: 0.0080 - val_loss: 0.0104\n",
      "Epoch 59/100\n",
      "728/728 [==============================] - 0s - loss: 0.0079 - val_loss: 0.0103\n",
      "Epoch 60/100\n",
      "728/728 [==============================] - 0s - loss: 0.0079 - val_loss: 0.0103\n",
      "Epoch 61/100\n",
      "728/728 [==============================] - 0s - loss: 0.0079 - val_loss: 0.0103\n",
      "Epoch 62/100\n",
      "728/728 [==============================] - 0s - loss: 0.0078 - val_loss: 0.0103\n",
      "Epoch 63/100\n",
      "728/728 [==============================] - 0s - loss: 0.0078 - val_loss: 0.0103\n",
      "Epoch 64/100\n",
      "728/728 [==============================] - 0s - loss: 0.0078 - val_loss: 0.0103\n",
      "Epoch 65/100\n",
      "728/728 [==============================] - 0s - loss: 0.0077 - val_loss: 0.0103\n",
      "Epoch 66/100\n",
      "728/728 [==============================] - 0s - loss: 0.0077 - val_loss: 0.0103\n",
      "Epoch 67/100\n",
      "728/728 [==============================] - 0s - loss: 0.0077 - val_loss: 0.0103\n",
      "Epoch 68/100\n",
      "728/728 [==============================] - 0s - loss: 0.0076 - val_loss: 0.0103\n",
      "Epoch 69/100\n",
      "728/728 [==============================] - ETA: 0s - loss: 0.007 - 0s - loss: 0.0076 - val_loss: 0.0102\n",
      "Epoch 70/100\n",
      "728/728 [==============================] - 0s - loss: 0.0076 - val_loss: 0.0102\n",
      "Epoch 71/100\n",
      "728/728 [==============================] - 0s - loss: 0.0076 - val_loss: 0.0103\n",
      "Epoch 72/100\n",
      "728/728 [==============================] - 0s - loss: 0.0075 - val_loss: 0.0103\n",
      "Epoch 73/100\n",
      "728/728 [==============================] - 0s - loss: 0.0075 - val_loss: 0.0102\n",
      "Epoch 74/100\n",
      "728/728 [==============================] - 0s - loss: 0.0075 - val_loss: 0.0102\n",
      "Epoch 75/100\n",
      "728/728 [==============================] - 0s - loss: 0.0075 - val_loss: 0.0102\n",
      "Epoch 76/100\n",
      "728/728 [==============================] - 0s - loss: 0.0074 - val_loss: 0.0102\n",
      "Epoch 77/100\n",
      "728/728 [==============================] - 0s - loss: 0.0074 - val_loss: 0.0102\n",
      "Epoch 78/100\n",
      "728/728 [==============================] - 0s - loss: 0.0074 - val_loss: 0.0102\n",
      "Epoch 79/100\n",
      "728/728 [==============================] - 0s - loss: 0.0073 - val_loss: 0.0102\n",
      "Epoch 80/100\n",
      "728/728 [==============================] - 0s - loss: 0.0073 - val_loss: 0.0102\n",
      "Epoch 81/100\n",
      "728/728 [==============================] - 0s - loss: 0.0073 - val_loss: 0.0102\n",
      "Epoch 82/100\n",
      "728/728 [==============================] - 0s - loss: 0.0073 - val_loss: 0.0102\n",
      "Epoch 83/100\n",
      "728/728 [==============================] - 0s - loss: 0.0072 - val_loss: 0.0102\n",
      "Epoch 84/100\n",
      "728/728 [==============================] - 0s - loss: 0.0072 - val_loss: 0.0102\n",
      "Epoch 85/100\n",
      "728/728 [==============================] - 0s - loss: 0.0072 - val_loss: 0.0102\n",
      "Epoch 86/100\n",
      "728/728 [==============================] - 0s - loss: 0.0072 - val_loss: 0.0102\n",
      "Epoch 87/100\n"
     ]
    },
    {
     "name": "stdout",
     "output_type": "stream",
     "text": [
      "728/728 [==============================] - 0s - loss: 0.0072 - val_loss: 0.0102\n",
      "Epoch 88/100\n",
      "728/728 [==============================] - 0s - loss: 0.0071 - val_loss: 0.0102\n",
      "Epoch 89/100\n",
      "728/728 [==============================] - 0s - loss: 0.0071 - val_loss: 0.0102\n",
      "Epoch 90/100\n",
      "728/728 [==============================] - 0s - loss: 0.0071 - val_loss: 0.0102\n",
      "Epoch 91/100\n",
      "728/728 [==============================] - 0s - loss: 0.0071 - val_loss: 0.0102\n",
      "Epoch 92/100\n",
      "728/728 [==============================] - 0s - loss: 0.0071 - val_loss: 0.0102\n",
      "Epoch 93/100\n",
      "728/728 [==============================] - 0s - loss: 0.0070 - val_loss: 0.0102\n",
      "Epoch 94/100\n",
      "728/728 [==============================] - 0s - loss: 0.0070 - val_loss: 0.0101\n",
      "Epoch 95/100\n",
      "728/728 [==============================] - 0s - loss: 0.0070 - val_loss: 0.0102\n",
      "Epoch 96/100\n",
      "728/728 [==============================] - 0s - loss: 0.0070 - val_loss: 0.0102\n",
      "Epoch 97/100\n",
      "728/728 [==============================] - 0s - loss: 0.0070 - val_loss: 0.0102\n",
      "Epoch 98/100\n",
      "728/728 [==============================] - 0s - loss: 0.0070 - val_loss: 0.0102\n",
      "Epoch 99/100\n",
      "728/728 [==============================] - 0s - loss: 0.0069 - val_loss: 0.0102\n",
      "Epoch 100/100\n",
      "728/728 [==============================] - 0s - loss: 0.0069 - val_loss: 0.0102\n"
     ]
    },
    {
     "data": {
      "text/plain": [
       "<keras.callbacks.History at 0x27dbfe92c18>"
      ]
     },
     "execution_count": 218,
     "metadata": {},
     "output_type": "execute_result"
    }
   ],
   "source": [
    "input_size = 300\n",
    "hidden_1_size = 200\n",
    "#hidden_2_size = 100\n",
    "code_size = 50\n",
    "\n",
    "input_layer = Input(shape=(input_size,))\n",
    "encoder_hidden_layer_1 = Dense(hidden_1_size, activation='relu')(input_layer)\n",
    "#encoder_hidden_layer_2 = Dense(hidden_2_size, activation='relu')(encoder_hidden_layer_1)\n",
    "code_layer = Dense(code_size, activation='relu')(encoder_hidden_layer_1)\n",
    "#decoder_hidden_layer_1 = Dense(hidden_2_size, activation='relu')(code_layer)\n",
    "decoder_hidden_layer_1 = Dense(hidden_1_size, activation='relu')(code_layer)\n",
    "output_layer = Dense(input_size, activation='sigmoid')(decoder_hidden_layer_1)\n",
    "\n",
    "autoencoder = Model(input_layer, output_layer)\n",
    "\n",
    "# create a separate encoder model\n",
    "encoder = Model(input_layer, code_layer)\n",
    "\n",
    "# retrieve the last layer of the autoencoder model \n",
    "#decoder_layer1 = autoencoder.layers[-3]\n",
    "decoder_layer1 = autoencoder.layers[-2]\n",
    "decoder_layer2 = autoencoder.layers[-1]\n",
    "\n",
    "# create the decoder model\n",
    "encoded_input_layer = Input(shape=(code_size,))\n",
    "#decoder = Model(encoded_input_layer, decoder_layer3(decoder_layer2(decoder_layer1(encoded_input_layer))))\n",
    "decoder = Model(encoded_input_layer, decoder_layer2(decoder_layer1(encoded_input_layer)))\n",
    "\n",
    "autoencoder.compile(optimizer=\"adam\", loss='mse')\n",
    "autoencoder.fit(X_train, X_train, epochs=100, batch_size=32, validation_data=[X_test, X_test])"
   ]
  },
  {
   "cell_type": "code",
   "execution_count": 220,
   "metadata": {},
   "outputs": [
    {
     "name": "stdout",
     "output_type": "stream",
     "text": [
      "Ridge =  0.550104142095\n",
      "SVR =  0.584658318708\n"
     ]
    }
   ],
   "source": [
    "X_train_encoded = encoder.predict(X_train)\n",
    "X_test_encoded = encoder.predict(X_test)\n",
    "\n",
    "m, p = ridge(X_train_encoded, y_train, X_test_encoded, y_test)\n",
    "print('Ridge = ', p)\n",
    "m, p = svr(X_train_encoded, y_train, X_test_encoded, y_test)\n",
    "print('SVR = ', p)"
   ]
  },
  {
   "cell_type": "code",
   "execution_count": 234,
   "metadata": {},
   "outputs": [
    {
     "data": {
      "text/plain": [
       "(728, 50)"
      ]
     },
     "execution_count": 234,
     "metadata": {},
     "output_type": "execute_result"
    }
   ],
   "source": [
    "X_train_encoded.shape"
   ]
  },
  {
   "cell_type": "code",
   "execution_count": 229,
   "metadata": {},
   "outputs": [
    {
     "name": "stdout",
     "output_type": "stream",
     "text": [
      "SVR =  0.591925181818\n"
     ]
    }
   ],
   "source": [
    "X_train_encoded_extended = encoder.predict(X_extended)\n",
    "#X_train_encoded = np.append(X_train_encoded, encoder.predict(X_extended1))\n",
    "#X_train_encoded = np.append(X_train_encoded, encoder.predict(X_extended2))\n",
    "m, p = svr(X_train_encoded_extended, y_extended, X_test_encoded, y_test)\n",
    "print('SVR = ', p)"
   ]
  },
  {
   "cell_type": "code",
   "execution_count": 257,
   "metadata": {},
   "outputs": [
    {
     "name": "stdout",
     "output_type": "stream",
     "text": [
      "5\n",
      "10\n",
      "15\n",
      "20\n",
      "30\n",
      "50\n",
      "75\n",
      "100\n",
      "150\n",
      "{'150': 0.59575122251249502, '100': 0.60417638448690214, '10': 0.58039995111757159, '20': 0.60437127242889144, '30': 0.59026453547918634, '15': 0.59347063444202541, '50': 0.59061224207273477, '75': 0.60017652492086149, '5': 0.60230509473363336}\n"
     ]
    }
   ],
   "source": [
    "from keras.layers import Dropout\n",
    "from keras.wrappers.scikit_learn import KerasRegressor\n",
    "from keras.models import Sequential\n",
    "\n",
    "def baseline_model():\n",
    "    # create model\n",
    "    model = Sequential()\n",
    "    model.add(Dense(80, input_dim=50, activation='relu'))\n",
    "    model.add(Dropout(0.2))\n",
    "    model.add(Dense(10, activation='relu'))\n",
    "    #model.add(Dense(20, activation='relu'))\n",
    "    model.add(Dense(1, activation='sigmoid'))\n",
    "    # Compile model\n",
    "    #rmsprop = RMSprop(lr=learning_rate)\n",
    "    model.compile(loss='mse', optimizer='rmsprop', metrics=['mse'])\n",
    "    return model\n",
    "\n",
    "def NN(e):\n",
    "    print(e)\n",
    "    estimator = KerasRegressor(build_fn=baseline_model, epochs=20, batch_size=32)\n",
    "    history = estimator.fit(X_train_encoded, y_train, verbose=0, shuffle=False, validation_data=[X_test_encoded, y_test])\n",
    "    y_pred = estimator.predict(X_test_encoded)\n",
    "    p = pearsonr(y_test, y_pred)[0]\n",
    "    return p\n",
    "\n",
    "epochs = [5,10,15,20,30,50,75,100,150]\n",
    "d = dict()\n",
    "for e in epochs:\n",
    "    d[str(e)] = NN(e)\n",
    "print(d)"
   ]
  }
 ],
 "metadata": {
  "kernelspec": {
   "display_name": "Python 3",
   "language": "python",
   "name": "python3"
  },
  "language_info": {
   "codemirror_mode": {
    "name": "ipython",
    "version": 3
   },
   "file_extension": ".py",
   "mimetype": "text/x-python",
   "name": "python",
   "nbconvert_exporter": "python",
   "pygments_lexer": "ipython3",
   "version": "3.5.4"
  }
 },
 "nbformat": 4,
 "nbformat_minor": 2
}
